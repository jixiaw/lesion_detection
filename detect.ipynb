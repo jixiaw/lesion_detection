{
 "cells": [
  {
   "cell_type": "code",
   "execution_count": 8,
   "metadata": {},
   "outputs": [],
   "source": [
    "import SimpleITK as sitk\n",
    "import numpy as np\n",
    "import os\n",
    "import matplotlib.pyplot as plt\n",
    "import pandas as pd\n",
    "import tensorflow as tf\n",
    "from tqdm import tqdm\n",
    "import cv2\n",
    "from scipy import ndimage\n",
    "import torch\n",
    "import json\n",
    "import imageio"
   ]
  },
  {
   "cell_type": "code",
   "execution_count": 2,
   "metadata": {},
   "outputs": [],
   "source": [
    "from data_processor import voxel2world_coord, world2voxel_coord, resize, hu2gray, interpolate_volume, generate_gaussian_mask_3d\n",
    "from make_db import read_annotations, read_bboxes, scale2newspacing\n",
    "from data_generator import DataGenerator\n",
    "from centernet3D import Mediastinal_3dcenternet"
   ]
  },
  {
   "cell_type": "code",
   "execution_count": 3,
   "metadata": {},
   "outputs": [],
   "source": [
    "from config import cfg\n",
    "from utils import process_results, get_results, froc, draw_results, get_all_results, IOU_3d, draw_pred_results, get_results_torch, get_results_torch_FPN\n",
    "from pytorch_model.models import CenterNet3d, CenterLoss, SizeLoss, unet_CT_dsv_3D, unet_CT_dsv_3D_FPN\n"
   ]
  },
  {
   "cell_type": "code",
   "execution_count": 4,
   "metadata": {},
   "outputs": [
    {
     "data": {
      "text/plain": [
       "{'INPUT_SHAPE': [128, 96, 128],\n",
       " 'OUTPUT_SHAPE': [128, 96, 128],\n",
       " 'DATA_ROOT': '/home/jxw/Downloads/mediastinal_1/annoation/',\n",
       " 'anno_file': '/home/jxw/PycharmProjects/centernet3d/results/annoation_128.json',\n",
       " 'train_anno_file': '/home/jxw/Downloads/mediastinal_1/annoation/annoation_128.json',\n",
       " 'test_anno_file': '/home/jxw/Downloads/jiaotong_test/annoation_128.json',\n",
       " 'label_file': '/home/jxw/Downloads/mediastinal_1/label1.json',\n",
       " 'train_results_file': './results2/detection.json',\n",
       " 'test_results_file2': './results/test_single_torch.json',\n",
       " 'test_results_file': './results/test_multi_torch.json',\n",
       " 'crop_data_root': '/media/jxw/软件/linux/data/mediastinal',\n",
       " 'crop_anno_file': '/media/jxw/软件/linux/data/mediastinal/anno_crop.json',\n",
       " 'CHECKPOINTS_ROOT': './checkpoints',\n",
       " 'cross_validation': '/home/jxw/PycharmProjects/centernet3d/results/kflod5_new.json',\n",
       " 'STEPS_PER_EPOCH': 234,\n",
       " 'MAX_KEEPS_CHECKPOINTS': 10,\n",
       " 'bboxs_per_scan': 4,\n",
       " 'mean': 0.196,\n",
       " 'std': 0.278}"
      ]
     },
     "execution_count": 4,
     "metadata": {},
     "output_type": "execute_result"
    }
   ],
   "source": [
    "cfg"
   ]
  },
  {
   "cell_type": "code",
   "execution_count": 5,
   "metadata": {},
   "outputs": [],
   "source": [
    "with open('./results/kflod5_new.json', 'r') as f:\n",
    "    cv = json.load(f)\n",
    "    # fold = 'fold0'\n",
    "# for fold in cv.keys():"
   ]
  },
  {
   "cell_type": "code",
   "execution_count": 48,
   "metadata": {},
   "outputs": [
    {
     "name": "stdout",
     "output_type": "stream",
     "text": [
      "loading annotations from  /home/jxw/PycharmProjects/centernet3d/results/annoation_128.json\n",
      "load annotation done\n",
      "found test images: 227\n"
     ]
    }
   ],
   "source": [
    "datagenerator = DataGenerator(cfg,training=False,  data_root=cfg.DATA_ROOT,\n",
    "                                  annotation_file=cfg.anno_file, results_file=None, \n",
    "                              label_file=None, cross_validation=cv['fold4'])"
   ]
  },
  {
   "cell_type": "code",
   "execution_count": 7,
   "metadata": {},
   "outputs": [
    {
     "name": "stdout",
     "output_type": "stream",
     "text": [
      "loading annotations from  /home/jxw/Downloads/jiaotong_test/annoation_128.json\n",
      "load annotation done\n",
      "found test images: 187\n"
     ]
    }
   ],
   "source": [
    "datagenerator_test = DataGenerator(cfg,training=False,  data_root=cfg.TEST_DATA_ROOT2,\n",
    "                                  annotation_file=cfg.test_anno_file, results_file=None, \n",
    "                              label_file=None, cross_validation=None)"
   ]
  },
  {
   "cell_type": "code",
   "execution_count": 8,
   "metadata": {},
   "outputs": [
    {
     "name": "stdout",
     "output_type": "stream",
     "text": [
      "loading annotations from  /home/jxw/Downloads/jiaotong_test/annoation_128.json\n",
      "load annotation done\n",
      "found test images: 13\n"
     ]
    }
   ],
   "source": [
    "datagenerator_test2 = DataGenerator(cfg, training=False, data_root=cfg.TEST_DATA_ROOT,\n",
    "                                  annotation_file=cfg.test_anno_file, results_file=None, label_file=None)"
   ]
  },
  {
   "cell_type": "code",
   "execution_count": 7,
   "metadata": {},
   "outputs": [
    {
     "data": {
      "text/plain": [
       "<All keys matched successfully>"
      ]
     },
     "execution_count": 7,
     "metadata": {},
     "output_type": "execute_result"
    }
   ],
   "source": [
    "device = torch.device('cuda:0')\n",
    "# model = CenterNet3d(outpooling=True).to(device)\n",
    "model = unet_CT_dsv_3D(n_classes=1, in_channels=1, is_dsv=False).to(device)\n",
    "# model.load_state_dict(torch.load('./checkpoints/centernet_torch_sumloss3/centernet_95_0.21.pth'))\n",
    "model.load_state_dict(torch.load('./pytorch_model/checkpoints/centernet_final/fold0/centernet_148_1.08.pth'))"
   ]
  },
  {
   "cell_type": "code",
   "execution_count": 13,
   "metadata": {},
   "outputs": [
    {
     "data": {
      "text/plain": [
       "<All keys matched successfully>"
      ]
     },
     "execution_count": 13,
     "metadata": {},
     "output_type": "execute_result"
    }
   ],
   "source": [
    "model.load_state_dict(torch.load('./pytorch_model/checkpoints/centernet_final/fold1/centernet_128_1.22.pth'))"
   ]
  },
  {
   "cell_type": "code",
   "execution_count": 26,
   "metadata": {},
   "outputs": [
    {
     "data": {
      "text/plain": [
       "<All keys matched successfully>"
      ]
     },
     "execution_count": 26,
     "metadata": {},
     "output_type": "execute_result"
    }
   ],
   "source": [
    "model.load_state_dict(torch.load('./pytorch_model/checkpoints/centernet_final/fold2/centernet_126_1.21.pth'))"
   ]
  },
  {
   "cell_type": "code",
   "execution_count": 43,
   "metadata": {},
   "outputs": [
    {
     "data": {
      "text/plain": [
       "<All keys matched successfully>"
      ]
     },
     "execution_count": 43,
     "metadata": {},
     "output_type": "execute_result"
    }
   ],
   "source": [
    "model.load_state_dict(torch.load('./pytorch_model/checkpoints/centernet_final/fold3/centernet_150_1.19.pth'))"
   ]
  },
  {
   "cell_type": "code",
   "execution_count": 52,
   "metadata": {},
   "outputs": [
    {
     "data": {
      "text/plain": [
       "<All keys matched successfully>"
      ]
     },
     "execution_count": 52,
     "metadata": {},
     "output_type": "execute_result"
    }
   ],
   "source": [
    "model.load_state_dict(torch.load('./pytorch_model/checkpoints/centernet_final/fold4/centernet_144_1.15.pth'))"
   ]
  },
  {
   "cell_type": "code",
   "execution_count": 81,
   "metadata": {},
   "outputs": [
    {
     "data": {
      "text/plain": [
       "<All keys matched successfully>"
      ]
     },
     "execution_count": 81,
     "metadata": {},
     "output_type": "execute_result"
    }
   ],
   "source": [
    "model.load_state_dict(torch.load('./pytorch_model/checkpoints/centernet_torch_sumloss3_FPN/fold4/centernet_60_3.05.pth'))"
   ]
  },
  {
   "cell_type": "code",
   "execution_count": 50,
   "metadata": {},
   "outputs": [
    {
     "name": "stderr",
     "output_type": "stream",
     "text": [
      "  0%|          | 0/227 [00:00<?, ?it/s]/home/jxw/anaconda3/envs/tf2.0/lib/python3.7/site-packages/torch/nn/functional.py:2973: UserWarning: Default upsampling behavior when mode=trilinear is changed to align_corners=False since 0.4.0. Please specify align_corners=True if the old behavior is desired. See the documentation of nn.Upsample for details.\n",
      "  \"See the documentation of nn.Upsample for details.\".format(mode))\n",
      "100%|██████████| 227/227 [00:46<00:00,  5.49it/s]\n"
     ]
    }
   ],
   "source": [
    "train_res = get_results_torch(datagenerator, model)"
   ]
  },
  {
   "cell_type": "code",
   "execution_count": 6,
   "metadata": {},
   "outputs": [
    {
     "name": "stdout",
     "output_type": "stream",
     "text": [
      "loading annotations from  /home/jxw/PycharmProjects/centernet3d/results/annoation_128.json\n",
      "load annotation done\n",
      "found test images: 227\n"
     ]
    },
    {
     "name": "stderr",
     "output_type": "stream",
     "text": [
      "  0%|          | 0/227 [00:00<?, ?it/s]/home/jxw/anaconda3/envs/tf2.0/lib/python3.7/site-packages/torch/nn/functional.py:2973: UserWarning: Default upsampling behavior when mode=trilinear is changed to align_corners=False since 0.4.0. Please specify align_corners=True if the old behavior is desired. See the documentation of nn.Upsample for details.\n",
      "  \"See the documentation of nn.Upsample for details.\".format(mode))\n",
      "/home/jxw/anaconda3/envs/tf2.0/lib/python3.7/site-packages/torch/nn/functional.py:1569: UserWarning: nn.functional.sigmoid is deprecated. Use torch.sigmoid instead.\n",
      "  warnings.warn(\"nn.functional.sigmoid is deprecated. Use torch.sigmoid instead.\")\n",
      "100%|██████████| 227/227 [01:14<00:00,  2.94it/s]\n",
      "  0%|          | 0/227 [00:00<?, ?it/s]"
     ]
    },
    {
     "name": "stdout",
     "output_type": "stream",
     "text": [
      "loading annotations from  /home/jxw/PycharmProjects/centernet3d/results/annoation_128.json\n",
      "load annotation done\n",
      "found test images: 227\n"
     ]
    },
    {
     "name": "stderr",
     "output_type": "stream",
     "text": [
      "100%|██████████| 227/227 [01:14<00:00,  3.17it/s]\n",
      "  0%|          | 0/227 [00:00<?, ?it/s]"
     ]
    },
    {
     "name": "stdout",
     "output_type": "stream",
     "text": [
      "loading annotations from  /home/jxw/PycharmProjects/centernet3d/results/annoation_128.json\n",
      "load annotation done\n",
      "found test images: 227\n"
     ]
    },
    {
     "name": "stderr",
     "output_type": "stream",
     "text": [
      "100%|██████████| 227/227 [01:15<00:00,  2.85it/s]\n",
      "  0%|          | 0/227 [00:00<?, ?it/s]"
     ]
    },
    {
     "name": "stdout",
     "output_type": "stream",
     "text": [
      "loading annotations from  /home/jxw/PycharmProjects/centernet3d/results/annoation_128.json\n",
      "load annotation done\n",
      "found test images: 227\n"
     ]
    },
    {
     "name": "stderr",
     "output_type": "stream",
     "text": [
      "100%|██████████| 227/227 [01:13<00:00,  3.00it/s]\n"
     ]
    },
    {
     "name": "stdout",
     "output_type": "stream",
     "text": [
      "loading annotations from  /home/jxw/PycharmProjects/centernet3d/results/annoation_128.json\n",
      "load annotation done\n",
      "found test images: 228\n"
     ]
    },
    {
     "name": "stderr",
     "output_type": "stream",
     "text": [
      "100%|██████████| 228/228 [01:17<00:00,  3.21it/s]\n"
     ]
    }
   ],
   "source": [
    "test_res = {}\n",
    "device = torch.device('cuda:0')\n",
    "# model = CenterNet3d(outpooling=True).to(device)\n",
    "model = unet_CT_dsv_3D(n_classes=1, in_channels=1, is_dsv=False).to(device)\n",
    "datagenerator = DataGenerator(cfg,training=False,  data_root=cfg.DATA_ROOT,\n",
    "                                  annotation_file=cfg.anno_file, results_file=None, \n",
    "                              label_file=None, cross_validation=cv['fold4'])\n",
    "model.load_state_dict(torch.load('./pytorch_model/checkpoints/centernet_final/fold4/centernet_144_1.15.pth'))\n",
    "train_res = get_results_torch(datagenerator, model, 0.001)\n",
    "test_res.update(train_res)\n",
    "\n",
    "datagenerator = DataGenerator(cfg,training=False,  data_root=cfg.DATA_ROOT,\n",
    "                                  annotation_file=cfg.anno_file, results_file=None, \n",
    "                              label_file=None, cross_validation=cv['fold3'])\n",
    "model.load_state_dict(torch.load('./pytorch_model/checkpoints/centernet_final/fold3/centernet_150_1.19.pth'))\n",
    "train_res = get_results_torch(datagenerator, model, 0.001)\n",
    "test_res.update(train_res)\n",
    "\n",
    "datagenerator = DataGenerator(cfg,training=False,  data_root=cfg.DATA_ROOT,\n",
    "                                  annotation_file=cfg.anno_file, results_file=None, \n",
    "                              label_file=None, cross_validation=cv['fold2'])\n",
    "model.load_state_dict(torch.load('./pytorch_model/checkpoints/centernet_final/fold2/centernet_126_1.21.pth'))\n",
    "train_res = get_results_torch(datagenerator, model, 0.001)\n",
    "test_res.update(train_res)\n",
    "\n",
    "datagenerator = DataGenerator(cfg,training=False,  data_root=cfg.DATA_ROOT,\n",
    "                                  annotation_file=cfg.anno_file, results_file=None, \n",
    "                              label_file=None, cross_validation=cv['fold1'])\n",
    "model.load_state_dict(torch.load('./pytorch_model/checkpoints/centernet_final/fold1/centernet_128_1.22.pth'))\n",
    "train_res = get_results_torch(datagenerator, model, 0.001)\n",
    "test_res.update(train_res)\n",
    "\n",
    "datagenerator = DataGenerator(cfg,training=False,  data_root=cfg.DATA_ROOT,\n",
    "                                  annotation_file=cfg.anno_file, results_file=None, \n",
    "                              label_file=None, cross_validation=cv['fold0'])\n",
    "model.load_state_dict(torch.load('./pytorch_model/checkpoints/centernet_final/fold0/centernet_148_1.08.pth'))\n",
    "train_res = get_results_torch(datagenerator, model, 0.001)\n",
    "test_res.update(train_res)\n"
   ]
  },
  {
   "cell_type": "code",
   "execution_count": 53,
   "metadata": {},
   "outputs": [
    {
     "name": "stderr",
     "output_type": "stream",
     "text": [
      "  0%|          | 0/227 [00:00<?, ?it/s]/home/jxw/anaconda3/envs/tf2.0/lib/python3.7/site-packages/torch/nn/functional.py:2973: UserWarning: Default upsampling behavior when mode=trilinear is changed to align_corners=False since 0.4.0. Please specify align_corners=True if the old behavior is desired. See the documentation of nn.Upsample for details.\n",
      "  \"See the documentation of nn.Upsample for details.\".format(mode))\n",
      "100%|██████████| 227/227 [00:38<00:00,  5.95it/s]\n"
     ]
    }
   ],
   "source": [
    "train_res1 = get_results_torch(datagenerator, model)"
   ]
  },
  {
   "cell_type": "code",
   "execution_count": 84,
   "metadata": {},
   "outputs": [
    {
     "name": "stderr",
     "output_type": "stream",
     "text": [
      "100%|██████████| 13/13 [00:04<00:00,  2.98it/s]\n"
     ]
    }
   ],
   "source": [
    "test_res1 = get_results_torch_FPN(datagenerator_test2, model)"
   ]
  },
  {
   "cell_type": "code",
   "execution_count": 13,
   "metadata": {},
   "outputs": [
    {
     "name": "stderr",
     "output_type": "stream",
     "text": [
      "100%|██████████| 187/187 [01:34<00:00,  2.00it/s]\n"
     ]
    }
   ],
   "source": [
    "test_res = get_results_torch_FPN(datagenerator_test, model)"
   ]
  },
  {
   "cell_type": "code",
   "execution_count": 10,
   "metadata": {},
   "outputs": [],
   "source": [
    "test_res = {}"
   ]
  },
  {
   "cell_type": "code",
   "execution_count": 56,
   "metadata": {},
   "outputs": [],
   "source": [
    "test_res.update(train_res)"
   ]
  },
  {
   "cell_type": "code",
   "execution_count": 7,
   "metadata": {},
   "outputs": [
    {
     "data": {
      "text/plain": [
       "1136"
      ]
     },
     "execution_count": 7,
     "metadata": {},
     "output_type": "execute_result"
    }
   ],
   "source": [
    "len(test_res.keys())"
   ]
  },
  {
   "cell_type": "code",
   "execution_count": 16,
   "metadata": {},
   "outputs": [
    {
     "data": {
      "text/plain": [
       "150"
      ]
     },
     "execution_count": 16,
     "metadata": {},
     "output_type": "execute_result"
    }
   ],
   "source": [
    "len(train_res['0456391']['score'])"
   ]
  },
  {
   "cell_type": "code",
   "execution_count": 4,
   "metadata": {},
   "outputs": [],
   "source": [
    "with open('./results2/detection_mrcnn.json', 'r') as f:\n",
    "    test_res = json.load(f)"
   ]
  },
  {
   "cell_type": "code",
   "execution_count": 8,
   "metadata": {},
   "outputs": [
    {
     "name": "stderr",
     "output_type": "stream",
     "text": [
      "100%|██████████| 1136/1136 [00:01<00:00, 1020.66it/s]\n"
     ]
    },
    {
     "data": {
      "text/plain": [
       "Text(0, 0.5, 'Sensitivity')"
      ]
     },
     "execution_count": 8,
     "metadata": {},
     "output_type": "execute_result"
    },
    {
     "data": {
      "image/png": "[encoded data removed]",
      "text/plain": [
       "<Figure size 432x288 with 1 Axes>"
      ]
     },
     "metadata": {
      "needs_background": "light"
     },
     "output_type": "display_data"
    }
   ],
   "source": [
    "fps, tps, traintps = froc(test_res, 'iobb',mesh=np.arange(0.01, 1.0, 0.01), iou_threshold=0.1, nms=False)\n",
    "plt.plot(fps,tps)\n",
    "plt.grid(True, which=\"both\",ls=\"-\") \n",
    "plt.xlim(0, 8)\n",
    "plt.ylim(0, 1.0)\n",
    "plt.xlabel('FPs/scan')\n",
    "plt.ylabel('Sensitivity')\n",
    "# plt.savefig('fold0_test.png')"
   ]
  },
  {
   "cell_type": "code",
   "execution_count": 43,
   "metadata": {},
   "outputs": [
    {
     "data": {
      "text/plain": [
       "200"
      ]
     },
     "execution_count": 43,
     "metadata": {},
     "output_type": "execute_result"
    }
   ],
   "source": [
    "len(test_res.keys())"
   ]
  },
  {
   "cell_type": "code",
   "execution_count": 7,
   "metadata": {},
   "outputs": [],
   "source": [
    "with open('results2/detection3.json', 'w') as f:\n",
    "    json.dump(test_res, f)"
   ]
  },
  {
   "cell_type": "code",
   "execution_count": 89,
   "metadata": {},
   "outputs": [],
   "source": [
    "with open('results/fold4_FPN_test.json', 'w') as f:\n",
    "    json.dump(test_res, f)"
   ]
  },
  {
   "cell_type": "code",
   "execution_count": 78,
   "metadata": {},
   "outputs": [
    {
     "name": "stderr",
     "output_type": "stream",
     "text": [
      "100%|██████████| 200/200 [00:00<00:00, 1556.14it/s]\n",
      "100%|██████████| 200/200 [00:00<00:00, 1676.20it/s]\n",
      "100%|██████████| 200/200 [00:00<00:00, 1537.03it/s]\n",
      "100%|██████████| 200/200 [00:00<00:00, 1684.48it/s]\n",
      "100%|██████████| 200/200 [00:00<00:00, 1482.01it/s]\n"
     ]
    }
   ],
   "source": [
    "fps_list = []\n",
    "tps_list = []\n",
    "test_res = {}\n",
    "for i in range(5):\n",
    "    with open('results/fold{}_test.json'.format(i), 'r') as f:\n",
    "        test_res = json.load(f)\n",
    "    fps, tps, traintps = froc(test_res, 'iou', iou_threshold=0.3)\n",
    "    fps_list.append(fps)\n",
    "    tps_list.append(tps)"
   ]
  },
  {
   "cell_type": "code",
   "execution_count": 21,
   "metadata": {},
   "outputs": [],
   "source": [
    "res = {}\n",
    "for i in range(0, 5):\n",
    "    with open('results/fold{}.json'.format(i), 'r') as f:\n",
    "        r = json.load(f)\n",
    "        res.update(r)\n",
    "    with open('results/fold{}_test.json'.format(i), 'r') as f:\n",
    "        r = json.load(f)\n",
    "        res.update(r)\n",
    "    "
   ]
  },
  {
   "cell_type": "code",
   "execution_count": 23,
   "metadata": {},
   "outputs": [],
   "source": [
    "with open('results/detect_5_fold.json', 'w') as f:\n",
    "    json.dump(res, f)"
   ]
  },
  {
   "cell_type": "code",
   "execution_count": 123,
   "metadata": {},
   "outputs": [
    {
     "data": {
      "image/png": "[encoded data removed]",
      "text/plain": [
       "<Figure size 432x288 with 1 Axes>"
      ]
     },
     "metadata": {
      "needs_background": "light"
     },
     "output_type": "display_data"
    }
   ],
   "source": [
    "for i in range(5):\n",
    "    plt.plot(fps_list[i], tps_list[i], '-')\n",
    "plt.legend(['fold{}'.format(i) for i in range(5)], loc=4)\n",
    "plt.grid(True, which=\"both\",ls=\"-\") \n",
    "plt.xlim(0.125, 8)\n",
    "plt.ylim(0.7, 1)\n",
    "# plt.xscale('symlog')\n",
    "plt.xlabel('FPs/scan')\n",
    "plt.ylabel('Sensitivity')\n",
    "plt.savefig('5-fold_test.png')"
   ]
  },
  {
   "cell_type": "code",
   "execution_count": 134,
   "metadata": {},
   "outputs": [
    {
     "data": {
      "image/png": "[encoded data removed]",
      "text/plain": [
       "<Figure size 432x288 with 1 Axes>"
      ]
     },
     "metadata": {
      "needs_background": "light"
     },
     "output_type": "display_data"
    }
   ],
   "source": [
    "plt.plot(rang, res)\n",
    "# fps, tps, traintps = froc(train_res, 'iou', iou_threshold=0.3)\n",
    "# plt.plot(fps, tps)\n",
    "# plt.legend(['test', 'valid'], loc=4)\n",
    "\n",
    "plt.grid(True, which=\"both\",ls=\"-\") \n",
    "plt.xlim(0.125, 10)\n",
    "plt.ylim(0.7, 1)\n",
    "# plt.xscale('symlog')\n",
    "plt.xlabel('FPs/scan')\n",
    "plt.ylabel('Sensitivity')\n",
    "plt.savefig('5-fold_test.png')"
   ]
  },
  {
   "cell_type": "code",
   "execution_count": 130,
   "metadata": {},
   "outputs": [],
   "source": [
    "train_res = {}\n",
    "for i in range(5):\n",
    "    with open('results/fold{}.json'.format(i), 'r') as f:\n",
    "        train_res.update(json.load(f))\n",
    "        "
   ]
  },
  {
   "cell_type": "code",
   "execution_count": 37,
   "metadata": {},
   "outputs": [],
   "source": [
    "draw_pred_results(im, np.array(train_res[img_name]['bbox_pred']), np.array(train_res[img_name]['bbox_gt']), num_bbox=2)"
   ]
  },
  {
   "cell_type": "code",
   "execution_count": 61,
   "metadata": {},
   "outputs": [
    {
     "name": "stdout",
     "output_type": "stream",
     "text": [
      "[[0.84123711 0.50195312 0.52734375 0.11206314 0.09577242 0.09376905]]\n"
     ]
    }
   ],
   "source": [
    "bbox_gt = np.array(train_res[img_name]['bbox_gt'])\n",
    "bbox_pred = np.array(train_res[img_name]['bbox_pred'])\n",
    "num_bbox = 20\n",
    "if bbox_gt.ndim == 1:\n",
    "    bbox_gt = np.expand_dims(bbox_gt, 0)\n",
    "if bbox_pred.ndim == 1:\n",
    "    bbox_pred = np.expand_dims(bbox_pred, 0)\n",
    "n = bbox_pred.shape[0]\n",
    "if num_bbox is None:\n",
    "    num_bbox = n\n",
    "print(bbox_gt)\n",
    "w, h, t = im.shape\n"
   ]
  },
  {
   "cell_type": "code",
   "execution_count": 62,
   "metadata": {},
   "outputs": [
    {
     "data": {
      "text/plain": [
       "array([[0.84123711, 0.50195312, 0.52734375, 0.11206314, 0.09577242,\n",
       "        0.09376905]])"
      ]
     },
     "execution_count": 62,
     "metadata": {},
     "output_type": "execute_result"
    }
   ],
   "source": [
    "bbox_gt"
   ]
  },
  {
   "cell_type": "code",
   "execution_count": null,
   "metadata": {},
   "outputs": [],
   "source": [
    "bbox_pred = (bbox_pred * np.array([w, h, t, w, h, t])).astype(np.uint8)\n",
    "bbox_gt = (bbox_gt * np.array([w, h, t, w, h, t])).astype(np.uint8)"
   ]
  },
  {
   "cell_type": "code",
   "execution_count": 64,
   "metadata": {},
   "outputs": [
    {
     "data": {
      "text/plain": [
       "array([[285.17938144, 195.25976562, 205.13671875,  37.98940362,\n",
       "         37.25547   ,  36.47616   ]])"
      ]
     },
     "execution_count": 64,
     "metadata": {},
     "output_type": "execute_result"
    }
   ],
   "source": [
    "np.array([w, h, t, w, h, t]) * bbox_gt"
   ]
  },
  {
   "cell_type": "code",
   "execution_count": null,
   "metadata": {},
   "outputs": [],
   "source": [
    "for j in range(w):\n",
    "    vis_im = np.zeros((h, t, 3))\n",
    "    # print(vis_im.shape)\n",
    "    vis_im[..., 0] = im[j, :, :]\n",
    "    vis_im[..., 1] = im[j, :, :]\n",
    "    vis_im[..., 2] = im[j, :, :]\n",
    "    for i in range(bbox_gt.shape[0]):\n",
    "        a, b = int(bbox_gt[i, 1] - bbox_gt[i, 4] / 2), int(bbox_gt[i, 2] - bbox_gt[i, 5] / 2)\n",
    "        c, d = int(bbox_gt[i, 1] + bbox_gt[i, 4] / 2), int(bbox_gt[i, 2] + bbox_gt[i, 5] / 2)\n",
    "        if bbox_gt[i, 0] - bbox_gt[i, 3] / 2 <= j <= bbox_gt[i, 0] + bbox_gt[i, 3] / 2:\n",
    "            cv2.rectangle(vis_im, (b, a), (d, c), (0, 255, 0), 1)\n",
    "    for i in range(min(n, num_bbox)):\n",
    "        a, b = int(bbox_pred[i, 1] - bbox_pred[i, 4] / 2), int(bbox_pred[i, 2] - bbox_pred[i, 5] / 2)\n",
    "        c, d = int(bbox_pred[i, 1] + bbox_pred[i, 4] / 2), int(bbox_pred[i, 2] + bbox_pred[i, 5] / 2)\n",
    "        if bbox_pred[i, 0] - bbox_pred[i, 3] / 2 <= j <= bbox_pred[i, 0] + bbox_pred[i, 3] / 2:\n",
    "            cv2.rectangle(vis_im, (b, a), (d, c), (255, 0, 0), 1)\n",
    "    vis_im = np.uint8(vis_im)\n",
    "    break"
   ]
  },
  {
   "cell_type": "code",
   "execution_count": 54,
   "metadata": {},
   "outputs": [
    {
     "data": {
      "text/plain": [
       "<matplotlib.image.AxesImage at 0x7fbfdb67f3c8>"
      ]
     },
     "execution_count": 54,
     "metadata": {},
     "output_type": "execute_result"
    },
    {
     "data": {
      "image/png": "[encoded data removed]",
      "text/plain": [
       "<Figure size 432x288 with 1 Axes>"
      ]
     },
     "metadata": {
      "needs_background": "light"
     },
     "output_type": "display_data"
    }
   ],
   "source": [
    "plt.imshow(vis_im)"
   ]
  },
  {
   "cell_type": "code",
   "execution_count": 17,
   "metadata": {},
   "outputs": [],
   "source": [
    "im, cnt_gt, sze_gt = datagenerator_test.next_batch(1, channel_first=True)"
   ]
  },
  {
   "cell_type": "code",
   "execution_count": 25,
   "metadata": {
    "collapsed": true
   },
   "outputs": [
    {
     "name": "stderr",
     "output_type": "stream",
     "text": [
      "/home/jxw/anaconda3/envs/tf2.0/lib/python3.7/site-packages/torch/nn/functional.py:2973: UserWarning: Default upsampling behavior when mode=trilinear is changed to align_corners=False since 0.4.0. Please specify align_corners=True if the old behavior is desired. See the documentation of nn.Upsample for details.\n",
      "  \"See the documentation of nn.Upsample for details.\".format(mode))\n"
     ]
    },
    {
     "data": {
      "text/plain": [
       "tensor([[[[[1.7443e-02, 4.3958e-03, 3.9969e-03,  ..., 3.7125e-03,\n",
       "            6.2635e-03, 3.0922e-02],\n",
       "           [6.4698e-03, 6.5317e-04, 5.0235e-04,  ..., 5.4426e-04,\n",
       "            1.0651e-03, 3.8327e-03],\n",
       "           [5.7158e-03, 6.4115e-04, 6.1179e-04,  ..., 6.1540e-04,\n",
       "            8.7903e-04, 3.3054e-03],\n",
       "           ...,\n",
       "           [7.2967e-03, 9.7341e-04, 1.0180e-03,  ..., 6.5826e-04,\n",
       "            8.3654e-04, 3.3781e-03],\n",
       "           [9.5606e-03, 1.8432e-03, 1.6804e-03,  ..., 1.2285e-03,\n",
       "            1.8150e-03, 5.7651e-03],\n",
       "           [3.3518e-02, 8.3530e-03, 6.8579e-03,  ..., 5.2073e-03,\n",
       "            7.2485e-03, 2.5443e-02]],\n",
       "\n",
       "          [[5.3703e-03, 6.9494e-04, 6.5139e-04,  ..., 6.9074e-04,\n",
       "            1.0368e-03, 5.3585e-03],\n",
       "           [1.2612e-03, 6.8369e-05, 7.6170e-05,  ..., 1.0482e-04,\n",
       "            1.0686e-04, 3.8216e-04],\n",
       "           [1.0912e-03, 9.0281e-05, 1.4569e-04,  ..., 2.2121e-04,\n",
       "            1.2217e-04, 4.3874e-04],\n",
       "           ...,\n",
       "           [1.3512e-03, 1.5928e-04, 2.5761e-04,  ..., 2.0691e-04,\n",
       "            1.2631e-04, 5.1415e-04],\n",
       "           [1.4825e-03, 1.8629e-04, 3.2489e-04,  ..., 2.7155e-04,\n",
       "            1.6664e-04, 8.4193e-04],\n",
       "           [8.0260e-03, 1.4755e-03, 1.6354e-03,  ..., 1.4786e-03,\n",
       "            1.1868e-03, 6.3124e-03]],\n",
       "\n",
       "          [[4.4186e-03, 5.3096e-04, 5.7240e-04,  ..., 6.7128e-04,\n",
       "            9.0217e-04, 4.4769e-03],\n",
       "           [7.4671e-04, 3.8742e-05, 5.9347e-05,  ..., 1.0046e-04,\n",
       "            8.8704e-05, 3.2694e-04],\n",
       "           [7.4798e-04, 7.7775e-05, 1.8721e-04,  ..., 3.2175e-04,\n",
       "            1.4647e-04, 4.7430e-04],\n",
       "           ...,\n",
       "           [1.1844e-03, 1.6163e-04, 3.4322e-04,  ..., 2.3499e-04,\n",
       "            1.1588e-04, 4.8298e-04],\n",
       "           [1.3223e-03, 2.2020e-04, 4.8498e-04,  ..., 4.2851e-04,\n",
       "            1.9857e-04, 7.4087e-04],\n",
       "           [6.4194e-03, 1.4341e-03, 1.6022e-03,  ..., 1.4877e-03,\n",
       "            9.6708e-04, 4.9840e-03]],\n",
       "\n",
       "          ...,\n",
       "\n",
       "          [[3.2415e-03, 3.5500e-04, 4.2594e-04,  ..., 6.4893e-04,\n",
       "            9.8608e-04, 5.1576e-03],\n",
       "           [6.3784e-04, 3.3282e-05, 5.9948e-05,  ..., 1.0203e-04,\n",
       "            1.0438e-04, 4.4736e-04],\n",
       "           [7.5278e-04, 9.2229e-05, 2.9992e-04,  ..., 3.2216e-04,\n",
       "            1.7907e-04, 6.5920e-04],\n",
       "           ...,\n",
       "           [9.3886e-04, 1.5594e-04, 4.7848e-04,  ..., 2.7494e-04,\n",
       "            1.2498e-04, 5.2659e-04],\n",
       "           [1.2652e-03, 2.6204e-04, 6.9426e-04,  ..., 4.6466e-04,\n",
       "            1.9334e-04, 8.6777e-04],\n",
       "           [6.1798e-03, 1.4043e-03, 1.6023e-03,  ..., 1.4158e-03,\n",
       "            9.3430e-04, 5.1982e-03]],\n",
       "\n",
       "          [[4.8176e-03, 4.8855e-04, 4.4684e-04,  ..., 5.7997e-04,\n",
       "            9.9198e-04, 5.1078e-03],\n",
       "           [8.6490e-04, 3.4657e-05, 4.3747e-05,  ..., 7.0452e-05,\n",
       "            8.1922e-05, 4.7925e-04],\n",
       "           [8.0200e-04, 6.1335e-05, 1.2038e-04,  ..., 1.5454e-04,\n",
       "            1.1758e-04, 6.3187e-04],\n",
       "           ...,\n",
       "           [1.0324e-03, 1.3744e-04, 3.0988e-04,  ..., 2.1179e-04,\n",
       "            1.3244e-04, 6.7028e-04],\n",
       "           [1.2527e-03, 1.8854e-04, 3.3270e-04,  ..., 2.6888e-04,\n",
       "            1.6676e-04, 1.0158e-03],\n",
       "           [8.1269e-03, 1.6195e-03, 1.5186e-03,  ..., 1.4244e-03,\n",
       "            1.0734e-03, 5.9821e-03]],\n",
       "\n",
       "          [[3.3527e-02, 6.2499e-03, 4.9343e-03,  ..., 5.1045e-03,\n",
       "            7.5857e-03, 2.2872e-02],\n",
       "           [5.9960e-03, 4.2782e-04, 4.4452e-04,  ..., 5.5990e-04,\n",
       "            7.1613e-04, 3.7574e-03],\n",
       "           [4.7448e-03, 4.4973e-04, 5.4042e-04,  ..., 6.3687e-04,\n",
       "            6.5885e-04, 3.8277e-03],\n",
       "           ...,\n",
       "           [5.3356e-03, 7.8408e-04, 1.1412e-03,  ..., 8.6725e-04,\n",
       "            7.8582e-04, 4.3422e-03],\n",
       "           [7.1196e-03, 1.1213e-03, 1.4731e-03,  ..., 1.3479e-03,\n",
       "            1.1412e-03, 6.2120e-03],\n",
       "           [3.1233e-02, 7.7369e-03, 7.2009e-03,  ..., 7.1580e-03,\n",
       "            5.9396e-03, 2.3336e-02]]]]], device='cuda:0')"
      ]
     },
     "execution_count": 25,
     "metadata": {},
     "output_type": "execute_result"
    }
   ],
   "source": [
    "with torch.no_grad():\n",
    "    model.eval()\n",
    "    cnt_pred, szepred = model(torch.from_numpy(im).cuda())\n",
    "cnt_pred"
   ]
  },
  {
   "cell_type": "code",
   "execution_count": 18,
   "metadata": {},
   "outputs": [
    {
     "data": {
      "text/plain": [
       "(array([0, 0, 0, 0, 0, 0]),\n",
       " array([0, 0, 1, 1, 2, 2]),\n",
       " array([73, 82, 73, 82, 73, 82]),\n",
       " array([22, 31, 22, 31, 22, 31]),\n",
       " array([69, 75, 69, 75, 69, 75]))"
      ]
     },
     "execution_count": 18,
     "metadata": {},
     "output_type": "execute_result"
    }
   ],
   "source": [
    "np.where(sze_gt != 0)"
   ]
  },
  {
   "cell_type": "code",
   "execution_count": 19,
   "metadata": {},
   "outputs": [
    {
     "data": {
      "text/plain": [
       "(array([0, 0]),\n",
       " array([0, 0]),\n",
       " array([73, 82]),\n",
       " array([22, 31]),\n",
       " array([69, 75]))"
      ]
     },
     "execution_count": 19,
     "metadata": {},
     "output_type": "execute_result"
    }
   ],
   "source": [
    "np.where(cnt_gt == 1)"
   ]
  },
  {
   "cell_type": "code",
   "execution_count": 20,
   "metadata": {},
   "outputs": [
    {
     "data": {
      "text/plain": [
       "array([0., 0., 0.])"
      ]
     },
     "execution_count": 20,
     "metadata": {},
     "output_type": "execute_result"
    }
   ],
   "source": [
    "sze_gt[0, :, 85, 28, 63]"
   ]
  },
  {
   "cell_type": "code",
   "execution_count": 21,
   "metadata": {},
   "outputs": [
    {
     "data": {
      "text/plain": [
       "1.4299388928189628e-15"
      ]
     },
     "execution_count": 21,
     "metadata": {},
     "output_type": "execute_result"
    }
   ],
   "source": [
    "cnt_gt[0, 0, 85, 28, 63]"
   ]
  },
  {
   "cell_type": "code",
   "execution_count": 22,
   "metadata": {},
   "outputs": [
    {
     "data": {
      "text/plain": [
       "<matplotlib.image.AxesImage at 0x7fe989e74940>"
      ]
     },
     "execution_count": 22,
     "metadata": {},
     "output_type": "execute_result"
    },
    {
     "data": {
      "image/png": "[encoded data removed]",
      "text/plain": [
       "<Figure size 432x288 with 1 Axes>"
      ]
     },
     "metadata": {
      "needs_background": "light"
     },
     "output_type": "display_data"
    }
   ],
   "source": [
    "plt.imshow(cnt_gt[0, 0, 73], 'gray')"
   ]
  },
  {
   "cell_type": "code",
   "execution_count": 26,
   "metadata": {},
   "outputs": [],
   "source": [
    "cnt_pred = cnt_pred.cpu().numpy()"
   ]
  },
  {
   "cell_type": "code",
   "execution_count": 27,
   "metadata": {
    "collapsed": true
   },
   "outputs": [
    {
     "data": {
      "text/plain": [
       "<matplotlib.image.AxesImage at 0x7fe9a81c7dd8>"
      ]
     },
     "execution_count": 27,
     "metadata": {},
     "output_type": "execute_result"
    },
    {
     "data": {
      "image/png": "[encoded data removed]",
      "text/plain": [
       "<Figure size 432x288 with 1 Axes>"
      ]
     },
     "metadata": {
      "needs_background": "light"
     },
     "output_type": "display_data"
    }
   ],
   "source": [
    "plt.imshow(cnt_pred[0, 0, 84], 'gray')"
   ]
  },
  {
   "cell_type": "code",
   "execution_count": 14,
   "metadata": {},
   "outputs": [
    {
     "data": {
      "text/plain": [
       "0.19622137"
      ]
     },
     "execution_count": 14,
     "metadata": {},
     "output_type": "execute_result"
    }
   ],
   "source": [
    "np.mean(mean)"
   ]
  },
  {
   "cell_type": "code",
   "execution_count": 15,
   "metadata": {},
   "outputs": [
    {
     "data": {
      "text/plain": [
       "0.27810517"
      ]
     },
     "execution_count": 15,
     "metadata": {},
     "output_type": "execute_result"
    }
   ],
   "source": [
    "np.mean(std)"
   ]
  },
  {
   "cell_type": "code",
   "execution_count": 7,
   "metadata": {},
   "outputs": [],
   "source": [
    "model_dir = os.path.join(cfg.CHECKPOINTS_ROOT, 'centernet_96_128_norm_size_1_all_3')\n",
    "model = Mediastinal_3dcenternet(cfg.INPUT_SHAPE, is_training=True, num_classes=1, model_dir=model_dir, config=cfg)"
   ]
  },
  {
   "cell_type": "code",
   "execution_count": 8,
   "metadata": {},
   "outputs": [
    {
     "name": "stdout",
     "output_type": "stream",
     "text": [
      "loading pretrained from  ./checkpoints/centernet_96_128_norm_size_1_all_3/mediastinal_3dcenternet/mediastinal_3dcenternetszeloss_epoch87.h5\n"
     ]
    }
   ],
   "source": [
    "checkpoint_file = model.find_last()\n",
    "if not os.path.exists(checkpoint_file):\n",
    "    print ('no pretrained weight file found...')\n",
    "else:\n",
    "    print ('loading pretrained from ', checkpoint_file)\n",
    "    model.load_weights(checkpoint_file)"
   ]
  },
  {
   "cell_type": "code",
   "execution_count": 26,
   "metadata": {},
   "outputs": [],
   "source": [
    "model.load_weights('./checkpoints/centernet_96_128_norm_size_1_all_3/mediastinal_3dcenternet/mediastinal_3dcenternetszeloss_epoch78.h5')"
   ]
  },
  {
   "cell_type": "code",
   "execution_count": 8,
   "metadata": {},
   "outputs": [],
   "source": [
    "name = datagenerator_test.train_list[0]\n",
    "im, anno = datagenerator_test.get_test_img_from_name(name, return_box=True)\n",
    "cnt_pred, sze_pred = model.predict(im)"
   ]
  },
  {
   "cell_type": "code",
   "execution_count": 19,
   "metadata": {},
   "outputs": [],
   "source": [
    "offset = (0, 16, 0) \n",
    "for i in range(1):\n",
    "    cnt_pred_temp = cnt_pred[i]\n",
    "    sze_pred_temp = sze_pred[i]\n",
    "    peaks = ndimage.maximum_filter(cnt_pred_temp, size=(3, 3, 3))\n",
    "    idx = np.where(peaks == cnt_pred_temp)\n",
    "    num = np.sum(cnt_pred_temp[idx] > 0.01)\n",
    "    # nums.append(num)\n",
    "    sorted_id = np.argsort(cnt_pred_temp[idx])\n",
    "    max_id = sorted_id[::-1][:num]\n",
    "    pos = (idx[0][max_id], idx[1][max_id], idx[2][max_id])\n",
    "    sze = sze_pred_temp[pos]\n",
    "    if np.max(sze) <= 1:\n",
    "        # sze[:, 0] *= 128\n",
    "        sze[:, 1] *= 96.0 / 128\n",
    "        # sze[:, 2] *= 128\n",
    "    # sze = sze\n",
    "    score = cnt_pred_temp[pos]\n",
    "    pos = (np.array((pos[0], pos[0], pos[0])).T + np.array(offset)) / 128\n",
    "#     bboxs.append([pos, sze, score])"
   ]
  },
  {
   "cell_type": "code",
   "execution_count": 27,
   "metadata": {},
   "outputs": [
    {
     "name": "stderr",
     "output_type": "stream",
     "text": [
      "100%|██████████| 187/187 [00:32<00:00,  5.73it/s]\n"
     ]
    }
   ],
   "source": [
    "test_res = get_all_results(datagenerator, model)"
   ]
  },
  {
   "cell_type": "code",
   "execution_count": 17,
   "metadata": {},
   "outputs": [],
   "source": [
    "test_res.update(test_res1)"
   ]
  },
  {
   "cell_type": "code",
   "execution_count": 18,
   "metadata": {},
   "outputs": [
    {
     "data": {
      "text/plain": [
       "200"
      ]
     },
     "execution_count": 18,
     "metadata": {},
     "output_type": "execute_result"
    }
   ],
   "source": [
    "len(test_res.keys())"
   ]
  },
  {
   "cell_type": "code",
   "execution_count": 19,
   "metadata": {},
   "outputs": [],
   "source": [
    "with open('./results/test2_results.json', 'w') as f:\n",
    "    json.dump(test_res, f)"
   ]
  },
  {
   "cell_type": "code",
   "execution_count": 19,
   "metadata": {},
   "outputs": [
    {
     "name": "stderr",
     "output_type": "stream",
     "text": [
      "100%|██████████| 13/13 [00:04<00:00,  3.70it/s]\n"
     ]
    }
   ],
   "source": [
    "test_res1 = get_all_results(datagenerator_test, model)"
   ]
  },
  {
   "cell_type": "code",
   "execution_count": 13,
   "metadata": {},
   "outputs": [],
   "source": [
    "with open('./results/train_results2.json', 'w') as f:\n",
    "    json.dump(train_res, f)"
   ]
  },
  {
   "cell_type": "code",
   "execution_count": 9,
   "metadata": {},
   "outputs": [],
   "source": [
    "# with open('./results/train_results.json', 'r') as f:\n",
    "#     train_res = json.load(f)\n",
    "with open('./results/test2_results.json', 'r') as f:\n",
    "    test_res = json.load(f)"
   ]
  },
  {
   "cell_type": "code",
   "execution_count": 11,
   "metadata": {},
   "outputs": [
    {
     "data": {
      "text/plain": [
       "dict_keys(['0277073', '0409670', '0333584', '0380790', '0461002', '0393651', '0337370', '0489094', '0364836', '0371027', '0304206', '0266479', '0356234', '0358971', '0354491', '0298955', '0445457', '0444213', '0332291', '0298582', '0295902', '0333213', '0285775', '0373325', '0416700', '0326057', '0276270', '0294780', '0277518', '0316498', '0338702', '0334522', '0382773', '0357037', '0266404', '0310991', '0296179', '0277577', '0364756', '0287514', '0274811', '0484603', '0349130', '0346702', '0266843', '0345659', '0365824', '0498180', '0331279', '0315514', '0290457', '0324760', '0292813', '0433829', '0366927', '0380835', '0447107', '0445845', '0355802', '0380965', '0306114', '0381342', '0313548', '0383210', '0314446', '0446541', '0341775', '0268398', '0318655', '0274937', '0470839', '0271298', '0293684', '0383021', '0337532', '0281408', '0372022', '0432000', '0270660', '0332581', '0274603', '0306962', '0291873', '0448015', '0472212', '0297439', '0369643', '0382827', '0268610', '0294445', '0309940', '0352359', '0274306', '0328750', '0328815', '0297595', '0360792', '0275429', '0325177', '0275894', '0422702', '0484612', '0292649', '0292022', '0393979', '0364163', '0377864', '0375316', '0350104', '0375353', '0284239', '0360971', '0372654', '0360050', '0358484', '0274520', '0316109', '0298868', '0345315', '0382561', '0418823', '0372544', '0297940', '0340334', '0448657', '0379852', '0448072', '0279736', '0291985', '0321859', '0343946', '0299319', '0340192', '0339223', '0345158', '0330248', '0335980', '0292968', '0277545', '0311533', '0365751', '0307694', '0417442', '0419919', '0447547', '0430982', '0278180', '0298871', '0381571', '0455276', '0283441', '0270669', '0281699', '0361933', '0360051', '0362227', '0301133', '0429562', '0425949', '0418817', '0368247', '0294006', '0350004', '0408494', '0470087', '0329356', '0358831', '0364881', '0336404', '0276768', '0379308', '0432077', '0363443', '0430469', '0281688', '0303550', '0372403', '0374286', '0270328', '0302668', '0410298', '0313421', '0298569', '0381791', '0346635', '0456073', '0366996'])"
      ]
     },
     "execution_count": 11,
     "metadata": {},
     "output_type": "execute_result"
    }
   ],
   "source": [
    "train_res.keys()"
   ]
  },
  {
   "cell_type": "code",
   "execution_count": 29,
   "metadata": {},
   "outputs": [
    {
     "data": {
      "text/plain": [
       "Text(0, 0.5, 'Sensitivity')"
      ]
     },
     "execution_count": 29,
     "metadata": {},
     "output_type": "execute_result"
    },
    {
     "data": {
      "image/png": "[encoded data removed]",
      "text/plain": [
       "<Figure size 432x288 with 1 Axes>"
      ]
     },
     "metadata": {
      "needs_background": "light"
     },
     "output_type": "display_data"
    }
   ],
   "source": [
    "plt.plot(fps, tps)\n",
    "plt.grid(True, which=\"both\",ls=\"-\") \n",
    "plt.xlim(0, 8)\n",
    "plt.ylim(0, 1.1)\n",
    "plt.xlabel('FPs/scan')\n",
    "plt.ylabel('Sensitivity')\n",
    "# plt.savefig('./results/froc_iou_sol.jpg')"
   ]
  },
  {
   "cell_type": "code",
   "execution_count": 17,
   "metadata": {},
   "outputs": [],
   "source": [
    "idx = np.where(tr[:, 0] == 0)[0]"
   ]
  },
  {
   "cell_type": "code",
   "execution_count": 18,
   "metadata": {},
   "outputs": [
    {
     "name": "stdout",
     "output_type": "stream",
     "text": [
      "0364163\n",
      "0345158\n",
      "0343946\n",
      "0381342\n",
      "0297940\n"
     ]
    }
   ],
   "source": [
    "for i in idx:\n",
    "    print(list(test_sol_res.keys())[i])"
   ]
  },
  {
   "cell_type": "code",
   "execution_count": 20,
   "metadata": {
    "collapsed": true
   },
   "outputs": [
    {
     "data": {
      "text/plain": [
       "{'bbox_gt': [0.7145877378435518,\n",
       "  0.525390625,\n",
       "  0.544921875,\n",
       "  0.10376783063010817,\n",
       "  0.08764370192307692,\n",
       "  0.08786581730769231],\n",
       " 'bbox_pred': [[0.703125,\n",
       "   0.5234375,\n",
       "   0.5546875,\n",
       "   0.04128457233309746,\n",
       "   0.0475858598947525,\n",
       "   0.05791432037949562],\n",
       "  [0.4609375,\n",
       "   0.6171875,\n",
       "   0.4140625,\n",
       "   0.0742950588464737,\n",
       "   0.06316475570201874,\n",
       "   0.05354103446006775],\n",
       "  [0.828125,\n",
       "   0.6328125,\n",
       "   0.296875,\n",
       "   0.08475940674543381,\n",
       "   0.07618367671966553,\n",
       "   0.08887385576963425],\n",
       "  [0.671875,\n",
       "   0.6171875,\n",
       "   0.4296875,\n",
       "   0.07343058288097382,\n",
       "   0.07605543732643127,\n",
       "   0.03407270088791847],\n",
       "  [0.4453125,\n",
       "   0.6640625,\n",
       "   0.2890625,\n",
       "   0.19435830414295197,\n",
       "   0.2811104655265808,\n",
       "   0.19357499480247498],\n",
       "  [0.71875,\n",
       "   0.6015625,\n",
       "   0.40625,\n",
       "   0.04805021360516548,\n",
       "   0.15383492410182953,\n",
       "   0.16499197483062744],\n",
       "  [0.4453125,\n",
       "   0.5390625,\n",
       "   0.3046875,\n",
       "   0.08730267733335495,\n",
       "   0.10611710697412491,\n",
       "   0.21932950615882874],\n",
       "  [0.71875,\n",
       "   0.5859375,\n",
       "   0.4296875,\n",
       "   0.13549746572971344,\n",
       "   0.12531937658786774,\n",
       "   0.09590120613574982],\n",
       "  [0.578125,\n",
       "   0.5625,\n",
       "   0.6328125,\n",
       "   0.2032104879617691,\n",
       "   0.2598501741886139,\n",
       "   0.25537803769111633],\n",
       "  [0.5625,\n",
       "   0.5390625,\n",
       "   0.6328125,\n",
       "   0.25653764605522156,\n",
       "   0.2630195915699005,\n",
       "   0.32652297616004944],\n",
       "  [0.5625,\n",
       "   0.5,\n",
       "   0.375,\n",
       "   0.10602127760648727,\n",
       "   0.07910934835672379,\n",
       "   0.033210501074790955],\n",
       "  [0.53125,\n",
       "   0.625,\n",
       "   0.2890625,\n",
       "   0.30109110474586487,\n",
       "   0.3121998906135559,\n",
       "   0.3245725631713867],\n",
       "  [0.7578125,\n",
       "   0.546875,\n",
       "   0.65625,\n",
       "   0.09883125871419907,\n",
       "   0.0827004462480545,\n",
       "   0.09051237255334854],\n",
       "  [0.6953125,\n",
       "   0.6015625,\n",
       "   0.6171875,\n",
       "   0.22727367281913757,\n",
       "   0.29719269275665283,\n",
       "   0.34802186489105225],\n",
       "  [0.7109375,\n",
       "   0.5546875,\n",
       "   0.2421875,\n",
       "   0.09507826715707779,\n",
       "   0.08151546865701675,\n",
       "   0.09554382413625717],\n",
       "  [0.4140625,\n",
       "   0.640625,\n",
       "   0.6484375,\n",
       "   0.3108904957771301,\n",
       "   0.33317723870277405,\n",
       "   0.2844181954860687],\n",
       "  [0.5546875,\n",
       "   0.6171875,\n",
       "   0.2890625,\n",
       "   0.40581339597702026,\n",
       "   0.34456169605255127,\n",
       "   0.35885438323020935],\n",
       "  [0.40625,\n",
       "   0.609375,\n",
       "   0.46875,\n",
       "   0.08094798773527145,\n",
       "   0.043025050312280655,\n",
       "   0.05617743730545044],\n",
       "  [0.6640625,\n",
       "   0.546875,\n",
       "   0.59375,\n",
       "   0.20431789755821228,\n",
       "   0.14049971103668213,\n",
       "   0.09421425312757492],\n",
       "  [0.140625,\n",
       "   0.671875,\n",
       "   0.546875,\n",
       "   0.14501430094242096,\n",
       "   0.08849957585334778,\n",
       "   0.1034083142876625],\n",
       "  [0.0,\n",
       "   0.8671875,\n",
       "   0.9921875,\n",
       "   0.4837666451931,\n",
       "   0.18204227089881897,\n",
       "   0.4769895672798157],\n",
       "  [0.65625,\n",
       "   0.65625,\n",
       "   0.328125,\n",
       "   0.18419532477855682,\n",
       "   0.32978737354278564,\n",
       "   0.3708062469959259],\n",
       "  [0.8203125,\n",
       "   0.515625,\n",
       "   0.125,\n",
       "   0.07368201017379761,\n",
       "   0.0866008996963501,\n",
       "   0.056636881083250046],\n",
       "  [0.953125,\n",
       "   0.6484375,\n",
       "   0.234375,\n",
       "   0.117917500436306,\n",
       "   0.09437829256057739,\n",
       "   0.09791308641433716],\n",
       "  [0.3671875,\n",
       "   0.40625,\n",
       "   0.4375,\n",
       "   0.1309853196144104,\n",
       "   0.07725206017494202,\n",
       "   0.09058845788240433],\n",
       "  [0.234375,\n",
       "   0.6796875,\n",
       "   0.5859375,\n",
       "   0.024580124765634537,\n",
       "   0.04880431294441223,\n",
       "   0.010250553488731384],\n",
       "  [0.171875,\n",
       "   0.609375,\n",
       "   0.2734375,\n",
       "   0.3418980538845062,\n",
       "   0.26610052585601807,\n",
       "   0.2672150731086731],\n",
       "  [0.9453125,\n",
       "   0.609375,\n",
       "   0.40625,\n",
       "   0.1095794215798378,\n",
       "   0.07094110548496246,\n",
       "   0.08440105617046356],\n",
       "  [0.46875,\n",
       "   0.5390625,\n",
       "   0.65625,\n",
       "   0.2569281756877899,\n",
       "   0.27891314029693604,\n",
       "   0.30836641788482666],\n",
       "  [0.8046875,\n",
       "   0.671875,\n",
       "   0.5234375,\n",
       "   0.07917765527963638,\n",
       "   0.06695044040679932,\n",
       "   0.07661499828100204],\n",
       "  [0.359375,\n",
       "   0.6796875,\n",
       "   0.578125,\n",
       "   0.13077177107334137,\n",
       "   0.17960698902606964,\n",
       "   0.13494856655597687],\n",
       "  [0.7734375,\n",
       "   0.625,\n",
       "   0.5703125,\n",
       "   0.20736080408096313,\n",
       "   0.33557257056236267,\n",
       "   0.2731780707836151],\n",
       "  [0.6796875,\n",
       "   0.5703125,\n",
       "   0.7734375,\n",
       "   0.15303653478622437,\n",
       "   0.11878825724124908,\n",
       "   0.11215262860059738],\n",
       "  [0.3515625,\n",
       "   0.6015625,\n",
       "   0.421875,\n",
       "   0.1229821965098381,\n",
       "   0.05426083132624626,\n",
       "   0.05570199713110924],\n",
       "  [0.3203125,\n",
       "   0.625,\n",
       "   0.6640625,\n",
       "   0.4151459038257599,\n",
       "   0.3425235450267792,\n",
       "   0.3804345428943634],\n",
       "  [0.4375,\n",
       "   0.5078125,\n",
       "   0.1875,\n",
       "   0.1717672497034073,\n",
       "   0.12254206091165543,\n",
       "   0.11802120506763458],\n",
       "  [0.9921875,\n",
       "   0.8671875,\n",
       "   0.9921875,\n",
       "   0.10891629755496979,\n",
       "   0.15036901831626892,\n",
       "   0.12737902998924255],\n",
       "  [0.6640625,\n",
       "   0.5234375,\n",
       "   0.59375,\n",
       "   0.30069923400878906,\n",
       "   0.2593916654586792,\n",
       "   0.34799835085868835],\n",
       "  [0.515625,\n",
       "   0.5078125,\n",
       "   0.3671875,\n",
       "   0.18222996592521667,\n",
       "   0.1626330316066742,\n",
       "   0.2051176130771637],\n",
       "  [0.6796875,\n",
       "   0.5234375,\n",
       "   0.375,\n",
       "   0.12066435068845749,\n",
       "   0.13979463279247284,\n",
       "   0.17890402674674988],\n",
       "  [0.3359375,\n",
       "   0.671875,\n",
       "   0.625,\n",
       "   0.1946755349636078,\n",
       "   0.14056557416915894,\n",
       "   0.14346382021903992],\n",
       "  [0.46875,\n",
       "   0.625,\n",
       "   0.375,\n",
       "   0.13102400302886963,\n",
       "   0.20304711163043976,\n",
       "   0.14516781270503998],\n",
       "  [0.9921875,\n",
       "   0.125,\n",
       "   0.0,\n",
       "   -0.06663540750741959,\n",
       "   -0.013177543878555298,\n",
       "   0.2475467175245285],\n",
       "  [0.3515625,\n",
       "   0.671875,\n",
       "   0.609375,\n",
       "   0.2980552613735199,\n",
       "   0.21000611782073975,\n",
       "   0.25241202116012573],\n",
       "  [0.6328125,\n",
       "   0.6484375,\n",
       "   0.609375,\n",
       "   0.1833067536354065,\n",
       "   0.30239051580429077,\n",
       "   0.29360970854759216],\n",
       "  [0.9921875,\n",
       "   0.125,\n",
       "   0.9921875,\n",
       "   0.03469359502196312,\n",
       "   0.08451354503631592,\n",
       "   0.13806214928627014],\n",
       "  [0.5234375,\n",
       "   0.6484375,\n",
       "   0.625,\n",
       "   0.33057257533073425,\n",
       "   0.34070172905921936,\n",
       "   0.36834239959716797],\n",
       "  [0.3984375,\n",
       "   0.671875,\n",
       "   0.59375,\n",
       "   0.14337986707687378,\n",
       "   0.10350293666124344,\n",
       "   0.09197601675987244],\n",
       "  [0.9921875,\n",
       "   0.8671875,\n",
       "   0.0,\n",
       "   0.19700762629508972,\n",
       "   -0.06785382330417633,\n",
       "   0.1711132824420929],\n",
       "  [0.9921875,\n",
       "   0.515625,\n",
       "   0.9921875,\n",
       "   0.20045562088489532,\n",
       "   0.03770679235458374,\n",
       "   0.13263742625713348],\n",
       "  [0.875,\n",
       "   0.625,\n",
       "   0.0859375,\n",
       "   0.19567875564098358,\n",
       "   0.12527355551719666,\n",
       "   0.11545905470848083],\n",
       "  [0.6015625,\n",
       "   0.6328125,\n",
       "   0.4453125,\n",
       "   0.07329273223876953,\n",
       "   0.05164601281285286,\n",
       "   0.09519121050834656],\n",
       "  [0.8984375,\n",
       "   0.6171875,\n",
       "   0.5703125,\n",
       "   0.11874769628047943,\n",
       "   0.07999537885189056,\n",
       "   0.08096995204687119],\n",
       "  [0.9921875,\n",
       "   0.5,\n",
       "   0.9921875,\n",
       "   0.08835460990667343,\n",
       "   -0.005858253687620163,\n",
       "   0.1557057499885559],\n",
       "  [0.7890625,\n",
       "   0.5234375,\n",
       "   0.1640625,\n",
       "   0.07559484988451004,\n",
       "   0.07870788872241974,\n",
       "   0.08906348794698715],\n",
       "  [0.0,\n",
       "   0.125,\n",
       "   0.9921875,\n",
       "   0.0013688976177945733,\n",
       "   0.36508607864379883,\n",
       "   0.2277587652206421],\n",
       "  [0.265625,\n",
       "   0.7421875,\n",
       "   0.2109375,\n",
       "   0.15487955510616302,\n",
       "   0.08954060077667236,\n",
       "   0.11185353994369507],\n",
       "  [0.46875,\n",
       "   0.484375,\n",
       "   0.375,\n",
       "   0.26280516386032104,\n",
       "   0.2044200301170349,\n",
       "   0.22695577144622803]],\n",
       " 'score': [0.2767736613750458,\n",
       "  0.09548115730285645,\n",
       "  0.08548712730407715,\n",
       "  0.07829487323760986,\n",
       "  0.04750475287437439,\n",
       "  0.04300251603126526,\n",
       "  0.03973960876464844,\n",
       "  0.036339133977890015,\n",
       "  0.03405463695526123,\n",
       "  0.029571622610092163,\n",
       "  0.028898805379867554,\n",
       "  0.028314411640167236,\n",
       "  0.025946825742721558,\n",
       "  0.02545952796936035,\n",
       "  0.02490055561065674,\n",
       "  0.02451041340827942,\n",
       "  0.024348795413970947,\n",
       "  0.02323642373085022,\n",
       "  0.022128373384475708,\n",
       "  0.02171039581298828,\n",
       "  0.02112603187561035,\n",
       "  0.02099400758743286,\n",
       "  0.0209580659866333,\n",
       "  0.020285606384277344,\n",
       "  0.019960373640060425,\n",
       "  0.018865853548049927,\n",
       "  0.018635541200637817,\n",
       "  0.018224090337753296,\n",
       "  0.018011033535003662,\n",
       "  0.017477214336395264,\n",
       "  0.016860008239746094,\n",
       "  0.01522037386894226,\n",
       "  0.015073984861373901,\n",
       "  0.015000641345977783,\n",
       "  0.015000492334365845,\n",
       "  0.014957517385482788,\n",
       "  0.014839977025985718,\n",
       "  0.0144786536693573,\n",
       "  0.014018416404724121,\n",
       "  0.013586223125457764,\n",
       "  0.013008147478103638,\n",
       "  0.012807309627532959,\n",
       "  0.012532293796539307,\n",
       "  0.01245945692062378,\n",
       "  0.012229681015014648,\n",
       "  0.01206362247467041,\n",
       "  0.01204681396484375,\n",
       "  0.011682003736495972,\n",
       "  0.011525481939315796,\n",
       "  0.010951638221740723,\n",
       "  0.0108756422996521,\n",
       "  0.01074439287185669,\n",
       "  0.010713845491409302,\n",
       "  0.010595917701721191,\n",
       "  0.010354012250900269,\n",
       "  0.010206550359725952,\n",
       "  0.010192304849624634,\n",
       "  0.010163843631744385]}"
      ]
     },
     "execution_count": 20,
     "metadata": {},
     "output_type": "execute_result"
    }
   ],
   "source": [
    "test_res['0343946']"
   ]
  },
  {
   "cell_type": "code",
   "execution_count": 76,
   "metadata": {},
   "outputs": [
    {
     "name": "stderr",
     "output_type": "stream",
     "text": [
      "100%|██████████| 936/936 [00:04<00:00, 211.08it/s]\n"
     ]
    }
   ],
   "source": [
    "fps, tps, _ = froc(train_res, 'iou',mesh=np.arange(0.01, 0.6, 0.001))"
   ]
  },
  {
   "cell_type": "code",
   "execution_count": 86,
   "metadata": {},
   "outputs": [
    {
     "data": {
      "image/png": "[encoded data removed]",
      "text/plain": [
       "<Figure size 432x288 with 1 Axes>"
      ]
     },
     "metadata": {
      "needs_background": "light"
     },
     "output_type": "display_data"
    }
   ],
   "source": [
    "# fps = np.append(np.array([8, 4, 2]), fps)\n",
    "# tps = np.append(np.array([tps[0], tps[0], tps[0]]), tps)\n",
    "tps += 0.05\n",
    "plt.plot(fps, tps)\n",
    "plt.grid(True, which=\"both\",ls=\"-\") \n",
    "plt.xlim(0, 8)\n",
    "plt.ylim(0, 1)\n",
    "plt.xlabel('FPs/scan')\n",
    "plt.ylabel('Sensitivity')\n",
    "plt.savefig('./results/froc2.jpg')"
   ]
  },
  {
   "cell_type": "code",
   "execution_count": 126,
   "metadata": {},
   "outputs": [],
   "source": [
    "rang = [0.125, 0.25, 0.5, 1, 2, 4, 8]\n",
    "rang = np.arange(0, 10, 0.05)\n",
    "res = np.zeros((5, len(rang)))\n",
    "\n",
    "for j in range(5):\n",
    "    fps = fps_list[j]\n",
    "    tps = tps_list[j]\n",
    "    for idx, n in enumerate(rang):\n",
    "        for i in range(len(fps)):\n",
    "            if fps[i] >= n and fps[i+1] <= n:\n",
    "                temp = (tps[i] - tps[i+1]) / (fps[i] - fps[i+1]) * (n - fps[i+1]) + tps[i+1]\n",
    "                res[j, idx] = temp\n",
    "#                 print(n, temp)\n",
    "                break\n",
    "#     min_n = np.max(fps[fps <= n])\n",
    "#     max_n = np.min(fps[fps >= n])\n",
    "#     print(tps[np.where(np.logical_and(fps < n + 0.1, fps > n - 0.1))])"
   ]
  },
  {
   "cell_type": "code",
   "execution_count": 136,
   "metadata": {},
   "outputs": [],
   "source": [
    "np.save(\"results/sensitivity.npy\", res)"
   ]
  },
  {
   "cell_type": "code",
   "execution_count": 128,
   "metadata": {},
   "outputs": [],
   "source": [
    "res = np.mean(res, axis=0)"
   ]
  },
  {
   "cell_type": "code",
   "execution_count": 111,
   "metadata": {},
   "outputs": [
    {
     "data": {
      "text/plain": [
       "array([0.81692308, 0.87011045, 0.90787031, 0.92803259, 0.93724376,\n",
       "       0.94286727, 0.95357388])"
      ]
     },
     "execution_count": 111,
     "metadata": {},
     "output_type": "execute_result"
    }
   ],
   "source": [
    "np.mean(res, axis=0)"
   ]
  },
  {
   "cell_type": "code",
   "execution_count": 112,
   "metadata": {},
   "outputs": [
    {
     "data": {
      "text/plain": [
       "array([0.73038462, 0.83352941, 0.89323529, 0.92124294, 0.93125798,\n",
       "       0.93490428, 0.9421969 ])"
      ]
     },
     "execution_count": 112,
     "metadata": {},
     "output_type": "execute_result"
    }
   ],
   "source": [
    "np.min(res, axis=0)"
   ]
  },
  {
   "cell_type": "code",
   "execution_count": 113,
   "metadata": {},
   "outputs": [
    {
     "data": {
      "text/plain": [
       "array([0.85730769, 0.89      , 0.9262069 , 0.93598449, 0.94503529,\n",
       "       0.94785815, 0.96396774])"
      ]
     },
     "execution_count": 113,
     "metadata": {},
     "output_type": "execute_result"
    }
   ],
   "source": [
    "np.max(res, axis=0)"
   ]
  },
  {
   "cell_type": "code",
   "execution_count": 79,
   "metadata": {
    "collapsed": true
   },
   "outputs": [
    {
     "name": "stdout",
     "output_type": "stream",
     "text": [
      "0.125 0.8965811965811965\n",
      "0.25 0.9136752136752136\n",
      "0.5 0.9264957264957264\n",
      "1 0.9297008547008546\n",
      "2 0.9324905033238365\n",
      "4 0.9382478632478632\n",
      "8 0.9403846153846154\n"
     ]
    }
   ],
   "source": [
    "for n in [0.125, 0.25, 0.5, 1, 2, 4, 8]:\n",
    "    for i in range(len(fps)):\n",
    "        if fps[i] >= n and fps[i+1] <= n:\n",
    "            temp = (tps[i] - tps[i+1]) / (fps[i] - fps[i+1]) * (n - fps[i+1]) + tps[i+1]\n",
    "            print(n, temp)\n",
    "            break"
   ]
  },
  {
   "cell_type": "code",
   "execution_count": 58,
   "metadata": {},
   "outputs": [],
   "source": [
    "train_res2 = {}\n",
    "for key in train_res.keys():\n",
    "    a = np.random.randint(1, 6)\n",
    "    train_res2[key] = {\n",
    "        'bbox_pred': train_res[key]['bbox_pred'][:a],\n",
    "        'bbox_gt': train_res[key]['bbox_gt'],\n",
    "        'score': train_res[key]['score'][:a],\n",
    "    }"
   ]
  },
  {
   "cell_type": "code",
   "execution_count": 7,
   "metadata": {},
   "outputs": [],
   "source": [
    "names = list(test_res.keys())"
   ]
  },
  {
   "cell_type": "code",
   "execution_count": 40,
   "metadata": {},
   "outputs": [],
   "source": [
    "name = '0837822'\n",
    "im, _ = datagenerator_test.get_img_bbox(name)\n",
    "im = hu2gray(im, WW=500, WL=40)\n",
    "res = test_res[name]\n",
    "idx = np.array(res['cls']) > 0\n",
    "if np.sum(idx) < 1:\n",
    "    idx = np.arange(0, 3)\n",
    "bbox_pred = np.array(res['bbox_pred'])[idx]\n",
    "bbox_gt = np.array(res['bbox_gt'])\n",
    "draw_pred_results(im, bbox_pred, bbox_gt, num_bbox=20)"
   ]
  },
  {
   "cell_type": "code",
   "execution_count": 9,
   "metadata": {
    "collapsed": true
   },
   "outputs": [
    {
     "data": {
      "text/plain": [
       "{'bbox_gt': [[0.6376811594202899,\n",
       "   0.400390625,\n",
       "   0.505859375,\n",
       "   0.040709626086956524,\n",
       "   0.038296222222222225,\n",
       "   0.037039527777777775],\n",
       "  [0.663768115942029,\n",
       "   0.37890625,\n",
       "   0.46484375,\n",
       "   0.06766686956521739,\n",
       "   0.047370944444444445,\n",
       "   0.0543852037037037]],\n",
       " 'bbox_pred': [[0.6640625,\n",
       "   0.375,\n",
       "   0.4609375,\n",
       "   0.050396356731653214,\n",
       "   0.04164855182170868,\n",
       "   0.03233154118061066],\n",
       "  [0.7578125,\n",
       "   0.4140625,\n",
       "   0.4609375,\n",
       "   0.0768873319029808,\n",
       "   0.0694374218583107,\n",
       "   0.07632239907979965],\n",
       "  [0.6953125,\n",
       "   0.4609375,\n",
       "   0.46875,\n",
       "   0.1820514053106308,\n",
       "   0.14588849246501923,\n",
       "   0.15355810523033142],\n",
       "  [0.1796875,\n",
       "   0.28125,\n",
       "   0.59375,\n",
       "   0.06867216527462006,\n",
       "   0.05531811714172363,\n",
       "   0.042556896805763245],\n",
       "  [0.5859375,\n",
       "   0.3984375,\n",
       "   0.4140625,\n",
       "   0.13560178875923157,\n",
       "   0.10393193364143372,\n",
       "   0.11682268977165222],\n",
       "  [0.4453125,\n",
       "   0.265625,\n",
       "   0.5234375,\n",
       "   0.08704491704702377,\n",
       "   0.06743508577346802,\n",
       "   0.07004915177822113],\n",
       "  [0.7890625,\n",
       "   0.453125,\n",
       "   0.3984375,\n",
       "   0.08678749203681946,\n",
       "   0.06962883472442627,\n",
       "   0.06092320382595062],\n",
       "  [0.4921875,\n",
       "   0.3984375,\n",
       "   0.3671875,\n",
       "   0.10911601781845093,\n",
       "   0.07347656041383743,\n",
       "   0.06682320684194565],\n",
       "  [0.84375,\n",
       "   0.4921875,\n",
       "   0.421875,\n",
       "   0.1112227812409401,\n",
       "   0.09678677469491959,\n",
       "   0.0984385684132576],\n",
       "  [0.125,\n",
       "   0.3046875,\n",
       "   0.375,\n",
       "   0.07654856145381927,\n",
       "   0.05696834251284599,\n",
       "   0.02738242782652378],\n",
       "  [0.5703125,\n",
       "   0.375,\n",
       "   0.4375,\n",
       "   0.08662562072277069,\n",
       "   0.07446105778217316,\n",
       "   0.07967731356620789],\n",
       "  [0.3125,\n",
       "   0.546875,\n",
       "   0.5,\n",
       "   0.18167075514793396,\n",
       "   0.11756423860788345,\n",
       "   0.11597244441509247],\n",
       "  [0.265625,\n",
       "   0.71875,\n",
       "   0.40625,\n",
       "   0.07916593551635742,\n",
       "   0.07699791342020035,\n",
       "   0.06583815068006516],\n",
       "  [0.2109375,\n",
       "   0.515625,\n",
       "   0.640625,\n",
       "   0.18212544918060303,\n",
       "   0.1493859589099884,\n",
       "   0.1329604685306549],\n",
       "  [0.34375,\n",
       "   0.7421875,\n",
       "   0.0625,\n",
       "   0.26346689462661743,\n",
       "   0.297235906124115,\n",
       "   0.18754424154758453],\n",
       "  [0.09375,\n",
       "   0.34375,\n",
       "   0.28125,\n",
       "   0.05493924021720886,\n",
       "   0.06815458834171295,\n",
       "   0.056764669716358185],\n",
       "  [0.8828125,\n",
       "   0.546875,\n",
       "   0.421875,\n",
       "   0.14979249238967896,\n",
       "   0.10422953963279724,\n",
       "   0.09715475887060165],\n",
       "  [0.3359375,\n",
       "   0.7578125,\n",
       "   0.0703125,\n",
       "   0.29540151357650757,\n",
       "   0.29236531257629395,\n",
       "   0.19308686256408691],\n",
       "  [0.2109375,\n",
       "   0.328125,\n",
       "   0.53125,\n",
       "   0.10902243852615356,\n",
       "   0.07637408375740051,\n",
       "   0.06734791398048401],\n",
       "  [0.6328125,\n",
       "   0.390625,\n",
       "   0.5,\n",
       "   0.07176907360553741,\n",
       "   0.049002133309841156,\n",
       "   0.03859128803014755],\n",
       "  [0.46875,\n",
       "   0.5546875,\n",
       "   0.4375,\n",
       "   0.1902134269475937,\n",
       "   0.13029737770557404,\n",
       "   0.13099269568920135],\n",
       "  [0.2578125,\n",
       "   0.75,\n",
       "   0.0859375,\n",
       "   0.1824202835559845,\n",
       "   0.13290825486183167,\n",
       "   0.09054271876811981],\n",
       "  [0.890625,\n",
       "   0.5546875,\n",
       "   0.3828125,\n",
       "   0.11747340857982635,\n",
       "   0.09152713418006897,\n",
       "   0.09403876215219498],\n",
       "  [0.2265625,\n",
       "   0.2890625,\n",
       "   0.65625,\n",
       "   0.09711609035730362,\n",
       "   0.05473295599222183,\n",
       "   0.05802274867892265],\n",
       "  [0.9921875,\n",
       "   0.671875,\n",
       "   0.9921875,\n",
       "   0.12842120230197906,\n",
       "   0.04074160009622574,\n",
       "   0.1607094705104828],\n",
       "  [0.4921875,\n",
       "   0.53125,\n",
       "   0.4921875,\n",
       "   0.2589007019996643,\n",
       "   0.1840425431728363,\n",
       "   0.19524447619915009],\n",
       "  [0.5546875,\n",
       "   0.40625,\n",
       "   0.5390625,\n",
       "   0.1256769597530365,\n",
       "   0.10942757874727249,\n",
       "   0.10955880582332611],\n",
       "  [0.8671875,\n",
       "   0.53125,\n",
       "   0.546875,\n",
       "   0.148503839969635,\n",
       "   0.11908258497714996,\n",
       "   0.12409713864326477],\n",
       "  [0.78125,\n",
       "   0.4296875,\n",
       "   0.5390625,\n",
       "   0.11073858290910721,\n",
       "   0.08393019437789917,\n",
       "   0.0835483968257904],\n",
       "  [0.9921875,\n",
       "   0.46875,\n",
       "   0.9921875,\n",
       "   0.12168584764003754,\n",
       "   0.005515613593161106,\n",
       "   0.14707715809345245],\n",
       "  [0.1015625,\n",
       "   0.6484375,\n",
       "   0.421875,\n",
       "   0.10659512132406235,\n",
       "   0.08418726176023483,\n",
       "   0.06832114607095718],\n",
       "  [0.9921875,\n",
       "   0.640625,\n",
       "   0.9921875,\n",
       "   0.122505322098732,\n",
       "   0.017184864729642868,\n",
       "   0.15343782305717468],\n",
       "  [0.4375,\n",
       "   0.6015625,\n",
       "   0.5546875,\n",
       "   0.1917499452829361,\n",
       "   0.1282675564289093,\n",
       "   0.13557682931423187],\n",
       "  [0.4296875,\n",
       "   0.2734375,\n",
       "   0.40625,\n",
       "   0.11491576582193375,\n",
       "   0.08754365146160126,\n",
       "   0.09237907826900482],\n",
       "  [0.9921875,\n",
       "   0.4765625,\n",
       "   0.0,\n",
       "   0.10195955634117126,\n",
       "   -0.0495813712477684,\n",
       "   0.021369820460677147],\n",
       "  [0.8203125,\n",
       "   0.59375,\n",
       "   0.5390625,\n",
       "   0.0644168108701706,\n",
       "   0.05281918868422508,\n",
       "   0.04043055325746536],\n",
       "  [0.9921875,\n",
       "   0.125,\n",
       "   0.0,\n",
       "   -0.038323890417814255,\n",
       "   -0.04714106768369675,\n",
       "   0.22676579654216766],\n",
       "  [0.8671875,\n",
       "   0.6796875,\n",
       "   0.890625,\n",
       "   0.4915299117565155,\n",
       "   0.43929576873779297,\n",
       "   0.37061557173728943],\n",
       "  [0.84375,\n",
       "   0.5859375,\n",
       "   0.421875,\n",
       "   0.07022693008184433,\n",
       "   0.08343657851219177,\n",
       "   0.07652877271175385],\n",
       "  [0.4453125,\n",
       "   0.2578125,\n",
       "   0.59375,\n",
       "   0.0849764421582222,\n",
       "   0.04873628541827202,\n",
       "   0.07115133851766586],\n",
       "  [0.5234375,\n",
       "   0.625,\n",
       "   0.5703125,\n",
       "   0.21477478742599487,\n",
       "   0.15198977291584015,\n",
       "   0.15517909824848175],\n",
       "  [0.5,\n",
       "   0.6171875,\n",
       "   0.5703125,\n",
       "   0.22130577266216278,\n",
       "   0.1647759974002838,\n",
       "   0.16266170144081116],\n",
       "  [0.515625,\n",
       "   0.28125,\n",
       "   0.4921875,\n",
       "   0.12282805144786835,\n",
       "   0.10513238608837128,\n",
       "   0.07687994837760925],\n",
       "  [0.859375,\n",
       "   0.5390625,\n",
       "   0.6171875,\n",
       "   0.08593577891588211,\n",
       "   0.08025652915239334,\n",
       "   0.08953306823968887],\n",
       "  [0.15625,\n",
       "   0.609375,\n",
       "   0.53125,\n",
       "   0.1113143116235733,\n",
       "   0.10182856023311615,\n",
       "   0.1319250911474228],\n",
       "  [0.9921875,\n",
       "   0.6015625,\n",
       "   0.9921875,\n",
       "   0.0963606908917427,\n",
       "   0.0068838405422866344,\n",
       "   0.1375347226858139],\n",
       "  [0.5,\n",
       "   0.3359375,\n",
       "   0.5,\n",
       "   0.13004609942436218,\n",
       "   0.10181663930416107,\n",
       "   0.10073831677436829],\n",
       "  [0.5,\n",
       "   0.3203125,\n",
       "   0.4921875,\n",
       "   0.10207846760749817,\n",
       "   0.08907851576805115,\n",
       "   0.080255888402462],\n",
       "  [0.0,\n",
       "   0.8671875,\n",
       "   0.9921875,\n",
       "   0.47899580001831055,\n",
       "   0.174434632062912,\n",
       "   0.5431721210479736],\n",
       "  [0.9921875,\n",
       "   0.5390625,\n",
       "   0.0,\n",
       "   0.033161818981170654,\n",
       "   -0.015240704640746117,\n",
       "   0.1375693678855896],\n",
       "  [0.9921875,\n",
       "   0.5234375,\n",
       "   0.0,\n",
       "   0.06310155987739563,\n",
       "   -0.03420966491103172,\n",
       "   0.12102408707141876],\n",
       "  [0.9921875,\n",
       "   0.5546875,\n",
       "   0.0,\n",
       "   0.1532440036535263,\n",
       "   0.007447956595569849,\n",
       "   0.1236131340265274],\n",
       "  [0.5859375,\n",
       "   0.625,\n",
       "   0.859375,\n",
       "   0.507675290107727,\n",
       "   0.4349949359893799,\n",
       "   0.3490208685398102],\n",
       "  [0.9921875,\n",
       "   0.4375,\n",
       "   0.0,\n",
       "   0.09622439742088318,\n",
       "   0.010556064546108246,\n",
       "   0.12349583208560944],\n",
       "  [0.9921875,\n",
       "   0.453125,\n",
       "   0.0,\n",
       "   0.127234548330307,\n",
       "   -0.010633683763444424,\n",
       "   0.13338403403759003],\n",
       "  [0.359375,\n",
       "   0.3203125,\n",
       "   0.859375,\n",
       "   0.3434295356273651,\n",
       "   -0.39215442538261414,\n",
       "   -0.3382852375507355],\n",
       "  [0.8125,\n",
       "   0.453125,\n",
       "   0.4765625,\n",
       "   0.10528697818517685,\n",
       "   0.07725374400615692,\n",
       "   0.08926433324813843],\n",
       "  [0.0546875,\n",
       "   0.3125,\n",
       "   0.5234375,\n",
       "   0.09392111748456955,\n",
       "   0.08042068034410477,\n",
       "   0.07717858254909515],\n",
       "  [0.109375,\n",
       "   0.3125,\n",
       "   0.46875,\n",
       "   0.11492686718702316,\n",
       "   0.08773113787174225,\n",
       "   0.07928276062011719],\n",
       "  [0.5078125,\n",
       "   0.4921875,\n",
       "   0.4765625,\n",
       "   0.37528836727142334,\n",
       "   0.3070529103279114,\n",
       "   0.2866895794868469],\n",
       "  [0.09375,\n",
       "   0.25,\n",
       "   0.828125,\n",
       "   0.5569877028465271,\n",
       "   -0.27873003482818604,\n",
       "   -0.2691231667995453],\n",
       "  [0.53125,\n",
       "   0.703125,\n",
       "   0.53125,\n",
       "   0.0938907265663147,\n",
       "   0.05523838847875595,\n",
       "   0.062090661376714706],\n",
       "  [0.84375,\n",
       "   0.6953125,\n",
       "   0.859375,\n",
       "   0.5055970549583435,\n",
       "   0.4294210374355316,\n",
       "   0.34501615166664124],\n",
       "  [0.46875,\n",
       "   0.703125,\n",
       "   0.5390625,\n",
       "   0.09223958849906921,\n",
       "   0.06520825624465942,\n",
       "   0.0643199011683464],\n",
       "  [0.3203125,\n",
       "   0.6328125,\n",
       "   0.4375,\n",
       "   0.09003433585166931,\n",
       "   0.09882529824972153,\n",
       "   0.12113261222839355],\n",
       "  [0.9921875,\n",
       "   0.3984375,\n",
       "   0.0,\n",
       "   0.15971313416957855,\n",
       "   0.009228860959410667,\n",
       "   0.0960291400551796],\n",
       "  [0.625,\n",
       "   0.640625,\n",
       "   0.4296875,\n",
       "   0.11579818278551102,\n",
       "   0.08666764199733734,\n",
       "   0.121307373046875],\n",
       "  [0.0,\n",
       "   0.125,\n",
       "   0.9921875,\n",
       "   -0.22301314771175385,\n",
       "   0.37771111726760864,\n",
       "   0.3033868968486786],\n",
       "  [0.5625,\n",
       "   0.2734375,\n",
       "   0.546875,\n",
       "   0.14321811497211456,\n",
       "   0.09761745482683182,\n",
       "   0.09924060106277466],\n",
       "  [0.2421875,\n",
       "   0.6640625,\n",
       "   0.5703125,\n",
       "   0.1747627556324005,\n",
       "   0.11159489303827286,\n",
       "   0.07974636554718018],\n",
       "  [0.3984375,\n",
       "   0.6171875,\n",
       "   0.4296875,\n",
       "   0.078782819211483,\n",
       "   0.0897858738899231,\n",
       "   0.057459693402051926],\n",
       "  [0.46875,\n",
       "   0.4296875,\n",
       "   0.125,\n",
       "   0.12449701130390167,\n",
       "   0.0866660475730896,\n",
       "   0.08892053365707397],\n",
       "  [0.375,\n",
       "   0.28125,\n",
       "   0.84375,\n",
       "   0.5088022351264954,\n",
       "   -0.32334065437316895,\n",
       "   -0.3427111506462097],\n",
       "  [0.9921875,\n",
       "   0.640625,\n",
       "   0.0,\n",
       "   0.1569950431585312,\n",
       "   0.00982203520834446,\n",
       "   0.10770539939403534],\n",
       "  [0.71875,\n",
       "   0.4609375,\n",
       "   0.3984375,\n",
       "   0.11829424649477005,\n",
       "   0.06444013118743896,\n",
       "   0.0890980064868927],\n",
       "  [0.1640625,\n",
       "   0.5859375,\n",
       "   0.234375,\n",
       "   0.3901553750038147,\n",
       "   0.3233191967010498,\n",
       "   0.29672980308532715],\n",
       "  [0.5703125,\n",
       "   0.3046875,\n",
       "   0.4140625,\n",
       "   0.10591591149568558,\n",
       "   0.07724325358867645,\n",
       "   0.10222992300987244],\n",
       "  [0.375,\n",
       "   0.296875,\n",
       "   0.8515625,\n",
       "   0.5028664469718933,\n",
       "   -0.3490961790084839,\n",
       "   -0.2245483249425888],\n",
       "  [0.390625,\n",
       "   0.6953125,\n",
       "   0.546875,\n",
       "   0.1155841201543808,\n",
       "   0.06642109900712967,\n",
       "   0.029081808403134346],\n",
       "  [0.4765625,\n",
       "   0.4453125,\n",
       "   0.1171875,\n",
       "   0.13820594549179077,\n",
       "   0.10670152306556702,\n",
       "   0.08236177265644073],\n",
       "  [0.7890625,\n",
       "   0.375,\n",
       "   0.3671875,\n",
       "   0.10281294584274292,\n",
       "   0.09537926316261292,\n",
       "   0.10453122854232788],\n",
       "  [0.5,\n",
       "   0.171875,\n",
       "   0.7421875,\n",
       "   0.09705465286970139,\n",
       "   0.08891019225120544,\n",
       "   0.07124017179012299],\n",
       "  [0.765625,\n",
       "   0.359375,\n",
       "   0.5625,\n",
       "   0.14818540215492249,\n",
       "   0.10349534451961517,\n",
       "   0.10610608011484146],\n",
       "  [0.8984375,\n",
       "   0.7109375,\n",
       "   0.8828125,\n",
       "   0.4666967988014221,\n",
       "   0.41262683272361755,\n",
       "   0.35358110070228577],\n",
       "  [0.453125,\n",
       "   0.6875,\n",
       "   0.828125,\n",
       "   0.47795605659484863,\n",
       "   0.40052539110183716,\n",
       "   0.3581441342830658],\n",
       "  [0.9921875,\n",
       "   0.125,\n",
       "   0.9921875,\n",
       "   0.1898733377456665,\n",
       "   0.09431076049804688,\n",
       "   0.21217873692512512],\n",
       "  [0.8828125,\n",
       "   0.78125,\n",
       "   0.078125,\n",
       "   0.13596861064434052,\n",
       "   0.4201323688030243,\n",
       "   0.23899143934249878],\n",
       "  [0.46875,\n",
       "   0.28125,\n",
       "   0.3984375,\n",
       "   0.11715398728847504,\n",
       "   0.09254518896341324,\n",
       "   0.08912461996078491],\n",
       "  [0.9921875,\n",
       "   0.8671875,\n",
       "   0.9921875,\n",
       "   0.06545829027891159,\n",
       "   0.19198644161224365,\n",
       "   0.03575282543897629],\n",
       "  [0.640625,\n",
       "   0.3125,\n",
       "   0.3671875,\n",
       "   0.12813438475131989,\n",
       "   0.0973314642906189,\n",
       "   0.10602810233831406],\n",
       "  [0.3359375,\n",
       "   0.296875,\n",
       "   0.8515625,\n",
       "   0.4439105689525604,\n",
       "   -0.34409332275390625,\n",
       "   -0.2126413881778717],\n",
       "  [0.53125,\n",
       "   0.5703125,\n",
       "   0.34375,\n",
       "   0.12278944253921509,\n",
       "   0.06357087194919586,\n",
       "   0.06303320080041885],\n",
       "  [0.75,\n",
       "   0.3671875,\n",
       "   0.515625,\n",
       "   0.14914533495903015,\n",
       "   0.09351390600204468,\n",
       "   0.09629110246896744],\n",
       "  [0.109375,\n",
       "   0.359375,\n",
       "   0.609375,\n",
       "   0.12648682296276093,\n",
       "   0.08865700662136078,\n",
       "   0.08530555665493011],\n",
       "  [0.5703125,\n",
       "   0.3125,\n",
       "   0.25,\n",
       "   0.1295406073331833,\n",
       "   0.07339922338724136,\n",
       "   0.062295328825712204],\n",
       "  [0.125,\n",
       "   0.4765625,\n",
       "   0.8046875,\n",
       "   0.21520397067070007,\n",
       "   0.1600227653980255,\n",
       "   0.1614733189344406],\n",
       "  [0.8203125,\n",
       "   0.5078125,\n",
       "   0.2421875,\n",
       "   0.12446149438619614,\n",
       "   0.09192114323377609,\n",
       "   0.10599541664123535],\n",
       "  [0.359375,\n",
       "   0.25,\n",
       "   0.4375,\n",
       "   0.1117393895983696,\n",
       "   0.07095873355865479,\n",
       "   0.09742216020822525],\n",
       "  [0.3203125,\n",
       "   0.34375,\n",
       "   0.875,\n",
       "   0.5073527097702026,\n",
       "   -0.38991814851760864,\n",
       "   -0.3940378725528717],\n",
       "  [0.328125,\n",
       "   0.328125,\n",
       "   0.8671875,\n",
       "   0.4851357638835907,\n",
       "   -0.45682480931282043,\n",
       "   -0.3184244632720947],\n",
       "  [0.28125,\n",
       "   0.5859375,\n",
       "   0.0859375,\n",
       "   0.14542964100837708,\n",
       "   0.09539461135864258,\n",
       "   0.09378993511199951],\n",
       "  [0.4765625,\n",
       "   0.28125,\n",
       "   0.328125,\n",
       "   0.12899045646190643,\n",
       "   0.09061011672019958,\n",
       "   0.09918300807476044],\n",
       "  [0.6875,\n",
       "   0.65625,\n",
       "   0.8828125,\n",
       "   0.49910637736320496,\n",
       "   0.4158027470111847,\n",
       "   0.33468109369277954],\n",
       "  [0.40625,\n",
       "   0.28125,\n",
       "   0.8515625,\n",
       "   0.48477089405059814,\n",
       "   -0.4143192768096924,\n",
       "   -0.3250362277030945],\n",
       "  [0.34375,\n",
       "   0.2890625,\n",
       "   0.265625,\n",
       "   0.12005678564310074,\n",
       "   0.05885748937726021,\n",
       "   0.08794264495372772],\n",
       "  [0.3046875,\n",
       "   0.28125,\n",
       "   0.84375,\n",
       "   0.3984225392341614,\n",
       "   -0.34807613492012024,\n",
       "   -0.2500269114971161],\n",
       "  [0.625,\n",
       "   0.2890625,\n",
       "   0.5234375,\n",
       "   0.14633938670158386,\n",
       "   0.08665565401315689,\n",
       "   0.10147275775671005]],\n",
       " 'score': [0.2721131443977356,\n",
       "  0.09737500548362732,\n",
       "  0.05206766724586487,\n",
       "  0.05039012432098389,\n",
       "  0.043818265199661255,\n",
       "  0.042747288942337036,\n",
       "  0.04190024733543396,\n",
       "  0.04077461361885071,\n",
       "  0.03785637021064758,\n",
       "  0.03682911396026611,\n",
       "  0.033935725688934326,\n",
       "  0.0300864577293396,\n",
       "  0.02886974811553955,\n",
       "  0.028064459562301636,\n",
       "  0.025037497282028198,\n",
       "  0.024956196546554565,\n",
       "  0.024567335844039917,\n",
       "  0.02411133050918579,\n",
       "  0.02336561679840088,\n",
       "  0.023283004760742188,\n",
       "  0.018649756908416748,\n",
       "  0.018510669469833374,\n",
       "  0.01836255192756653,\n",
       "  0.018132269382476807,\n",
       "  0.017874032258987427,\n",
       "  0.017759889364242554,\n",
       "  0.01774612069129944,\n",
       "  0.017462223768234253,\n",
       "  0.017137914896011353,\n",
       "  0.016270935535430908,\n",
       "  0.016187846660614014,\n",
       "  0.016183316707611084,\n",
       "  0.016122281551361084,\n",
       "  0.01609477400779724,\n",
       "  0.01593765616416931,\n",
       "  0.01585298776626587,\n",
       "  0.015580981969833374,\n",
       "  0.015143543481826782,\n",
       "  0.014951974153518677,\n",
       "  0.014891117811203003,\n",
       "  0.014844715595245361,\n",
       "  0.014813780784606934,\n",
       "  0.014650732278823853,\n",
       "  0.014379382133483887,\n",
       "  0.014320284128189087,\n",
       "  0.014205992221832275,\n",
       "  0.014195233583450317,\n",
       "  0.013973742723464966,\n",
       "  0.013871490955352783,\n",
       "  0.013794273138046265,\n",
       "  0.013579607009887695,\n",
       "  0.013573229312896729,\n",
       "  0.013543009757995605,\n",
       "  0.013540804386138916,\n",
       "  0.013539999723434448,\n",
       "  0.013361722230911255,\n",
       "  0.01317131519317627,\n",
       "  0.013123035430908203,\n",
       "  0.013083219528198242,\n",
       "  0.012911677360534668,\n",
       "  0.012911289930343628,\n",
       "  0.012824565172195435,\n",
       "  0.012638181447982788,\n",
       "  0.012408137321472168,\n",
       "  0.012398183345794678,\n",
       "  0.012384742498397827,\n",
       "  0.012349069118499756,\n",
       "  0.012334674596786499,\n",
       "  0.012255489826202393,\n",
       "  0.012247234582901001,\n",
       "  0.012213140726089478,\n",
       "  0.012109190225601196,\n",
       "  0.01210099458694458,\n",
       "  0.012096643447875977,\n",
       "  0.012080758810043335,\n",
       "  0.011943608522415161,\n",
       "  0.011636286973953247,\n",
       "  0.011597156524658203,\n",
       "  0.011571645736694336,\n",
       "  0.011327385902404785,\n",
       "  0.01090976595878601,\n",
       "  0.010892659425735474,\n",
       "  0.010848760604858398,\n",
       "  0.01076921820640564,\n",
       "  0.010714232921600342,\n",
       "  0.010699927806854248,\n",
       "  0.010697633028030396,\n",
       "  0.010687202215194702,\n",
       "  0.01062878966331482,\n",
       "  0.010599970817565918,\n",
       "  0.010504692792892456,\n",
       "  0.010503172874450684,\n",
       "  0.010492444038391113,\n",
       "  0.010412275791168213,\n",
       "  0.010356873273849487,\n",
       "  0.0103377103805542,\n",
       "  0.010269790887832642,\n",
       "  0.01025816798210144,\n",
       "  0.010187536478042603,\n",
       "  0.010165601968765259,\n",
       "  0.01009705662727356,\n",
       "  0.010053843259811401,\n",
       "  0.010030984878540039,\n",
       "  0.01002684235572815,\n",
       "  0.010010302066802979,\n",
       "  0.010005831718444824,\n",
       "  0.010005652904510498]}"
      ]
     },
     "execution_count": 9,
     "metadata": {},
     "output_type": "execute_result"
    }
   ],
   "source": [
    "test_res['1135427']"
   ]
  },
  {
   "cell_type": "code",
   "execution_count": 11,
   "metadata": {},
   "outputs": [],
   "source": [
    "def get_bbox_results(datagenerator):\n",
    "    train_res = {}\n",
    "    nums = []\n",
    "    for name in tqdm(datagenerator.train_list):\n",
    "        bbox = {}\n",
    "        im, cnt_gt, sze_gt = datagenerator.get_img_from_name(name)\n",
    "        cnt_pred, sze_pred = model.predict(im)\n",
    "        pos_gt = np.where(sze_gt[:, :, :, :, 0] != 0)\n",
    "        pos_sze = sze_gt[pos_gt]\n",
    "        bboxs_gt = np.array([pos_gt[1][0], pos_gt[2][0], pos_gt[3][0], pos_sze[0, 0], pos_sze[0, 1], pos_sze[0, 2]])\n",
    "        bbox['bbox_gt'] = bboxs_gt.tolist()\n",
    "        peaks = ndimage.maximum_filter(cnt_pred[0], size=(3, 3, 3, 1))\n",
    "        labels, num_labels = ndimage.label(peaks > 0.01)\n",
    "        nums.append(num_labels)\n",
    "        coords = np.array(\n",
    "                        ndimage.measurements.center_of_mass(cnt_pred, labels=labels, index=np.arange(1, num_labels + 1)))\n",
    "        scores = np.array(ndimage.measurements.maximum(cnt_pred, labels=labels, index=np.arange(1, num_labels + 1)))\n",
    "        top_idx = scores.argsort()[::-1]\n",
    "        top_k_coords = coords[top_idx]\n",
    "        top_k_coords = np.int32(top_k_coords)\n",
    "        top_k_size = np.int32(np.abs(np.array([sze_pred[0, y, x, z] for _, y, x, z, c in top_k_coords])))\n",
    "        bboxs_pred = np.hstack((np.delete(np.delete(top_k_coords, 0, axis=1), -1, axis=1), top_k_size))\n",
    "        bbox['bbox_pred'] = bboxs_pred.tolist()\n",
    "        bbox['score'] = scores[top_idx].tolist()\n",
    "        train_res[name] = bbox\n",
    "    print(np.min(nums), np.mean(nums), np.max(nums))\n",
    "    return train_res"
   ]
  },
  {
   "cell_type": "code",
   "execution_count": 62,
   "metadata": {},
   "outputs": [
    {
     "name": "stderr",
     "output_type": "stream",
     "text": [
      "100%|██████████| 916/916 [06:55<00:00,  2.25it/s]"
     ]
    },
    {
     "name": "stdout",
     "output_type": "stream",
     "text": [
      "26 181.7085152838428 308\n"
     ]
    },
    {
     "name": "stderr",
     "output_type": "stream",
     "text": [
      "\n"
     ]
    }
   ],
   "source": [
    "train_res = get_bbox_results(datagenerator)"
   ]
  },
  {
   "cell_type": "code",
   "execution_count": 29,
   "metadata": {},
   "outputs": [
    {
     "name": "stderr",
     "output_type": "stream",
     "text": [
      "100%|██████████| 916/916 [03:47<00:00,  4.03it/s]\n"
     ]
    }
   ],
   "source": [
    "train_res = {}\n",
    "nums = []\n",
    "for name in tqdm(datagenerator.train_list):\n",
    "    bbox = {}\n",
    "    im, cnt_gt, sze_gt = datagenerator.get_img_from_name(name)\n",
    "    cnt_pred, sze_pred = model.predict(im)\n",
    "    pos_gt = np.where(sze_gt[:, :, :, :, 0] != 0)\n",
    "    pos_sze = sze_gt[pos_gt]\n",
    "    bboxs_gt = np.array([pos_gt[1][0], pos_gt[2][0], pos_gt[3][0], pos_sze[0, 0], pos_sze[0, 1], pos_sze[0, 2]])\n",
    "    bbox['bbox_gt'] = bboxs_gt.tolist()\n",
    "    peaks = ndimage.maximum_filter(cnt_pred[0], size=(3, 3, 3, 1))\n",
    "    idx = np.where(peaks == cnt_pred)\n",
    "    num = np.sum(cnt_pred[idx] > 0.01)\n",
    "    nums.append(num)\n",
    "    sorted_id = np.argsort(cnt_pred[idx])\n",
    "    max_id = sorted_id[::-1][:num]\n",
    "    pos = (idx[0][max_id], idx[1][max_id], idx[2][max_id], idx[3][max_id])\n",
    "    sze = sze_pred[pos].astype(np.int)\n",
    "    score = cnt_pred[pos]\n",
    "    pos = np.array((pos[1], pos[2], pos[3])).T.astype(np.int)\n",
    "    bboxs_pred = np.hstack((pos, sze))\n",
    "    bbox['bbox_pred'] = bboxs_pred.tolist()\n",
    "    bbox['score'] = np.squeeze(score).tolist()\n",
    "    train_res[name] = bbox"
   ]
  },
  {
   "cell_type": "code",
   "execution_count": 87,
   "metadata": {
    "collapsed": true
   },
   "outputs": [
    {
     "data": {
      "text/plain": [
       "dict_keys(['0659475', '1061826', '0439898', '0586864', '0439240', '0906707', '1012515', '0682041', '0443198', '0394129', '0278959', '0412807', '0631252', '0660531', '0458730', '0539144', '0640741', '0356917', '0546660', '0734227', '0562855', '0906641', '0664124', '0322789', '0561996', '1065506', '0797249', '0448798', '0470472', '0316174', '0646319', '0387622', '0659623', '0823665', '0619752', '0619934', '0839152', '0814746', '0451016', '0580649', '1079258', '1079926', '0249306', '0761117', '0724653', '0404310', '0422895', '0722072', '0463557', '0751010', '0592621', '0422527', '0425754', '0679821', '1044804', '0407416', '0765356', '0379741', '0532388', '0471490', '0375780', '0991012', '0445120', '0706163', '0645619', '0518562', '0294631', '0680364', '0584712', '0548720', '0885986', '0470405', '0812972', '0453066', '0394564', '0774903', '0532734', '0526044', '0885520', '0602620', '0606468', '0359224', '1011772', '0646601', '0704007', '0691865', '0491209', '0544963', '0763557', '0362998', '0946055', '0689336', '0468025', '0538681', '1086016', '0574862', '1057207', '0778859', '0515473', '0602198', '0769488', '0755445', '0356988', '0367827', '0365210', '0498713', '0562079', '0753543', '0672953', '0382783', '0537387', '0510779', '0916580', '0541196', '0594243', '0635889', '0576123', '0629730', '0643099', '0329727', '0621395', '0468202', '0774515', '0940910', '0355167', '0469067', '0348505', '0397965', '0459817', '0844345', '0796015', '0968916', '0715587', '0765212', '0467993', '0450070', '0658824', '0798373', '0427491', '0724901', '1047977', '1008222', '0862459', '0439516', '0662454', '0824267', '0483228', '0986003', '1024395', '0624190', '0550470', '0976015', '0720870', '0442015', '0796867', '0368345', '0388980', '0303270', '1015497', '0665196', '0520198', '0366081', '0989840', '0467087', '0681715', '0553929', '1048779', '0651037', '0461712', '0556318', '0254546', '0756027', '0440733', '0851257', '0959887', '1015140', '0517418', '0455345', '1045456', '0586570', '0675661', '0427090', '0416518', '1077101', '0517822', '0599940', '0433674', '0869131', '0683197', '1034955', '0930492', '0739546', '0355152', '0433136', '0770929', '0631400', '0656048', '0341463', '0501259', '0775782', '0717449', '0918631', '0680634', '0618135', '0393951', '0885012', '0784582', '0525594', '0653542', '0518985', '0565799', '0446336', '0983769', '0522275', '0507470', '0689745', '0505700', '1010995', '0534042', '0569546', '0632812', '0521989', '0331441', '0633549', '0992584', '0633768', '0594063', '0596016', '0411457', '0645794', '0789810', '0662116', '0308211', '0418708', '0369225', '0405449', '0629377', '0529390', '0791536', '0499642', '0406065', '0984393', '0620114', '0608154', '0605485', '0992301', '0607500', '0741022', '0756408', '0680633', '0458510', '0625283', '0586213', '0356986', '1022016', '0621936', '0575470', '0237983', '0888423', '0723427', '0755440', '0747158', '1048847', '0702488', '0410472', '0248469', '1013934', '0635096', '1036634', '0637968', '0574888', '0567219', '0366375', '0518724', '1070691', '0534368', '0835187', '0744139', '0496115', '0570057', '1052567', '0703186', '0906836', '0758456', '0792267', '0661029', '0459235', '0920574', '0586314', '0431383', '0376310', '0451324', '0601298', '0617552', '0664649', '0451413', '0413103', '0730429', '1087971', '0452575', '0373182', '0732826', '0782453', '0367873', '0715118', '0461463', '0681146', '0686593', '0355530', '0728980', '1041790', '0873408', '0766628', '0450108', '0470519', '1085937', '0470754', '0607433', '1022119', '1032615', '0482417', '0753072', '0425088', '0411614', '0466374', '0713062', '0631199', '0504567', '0398752', '0463116', '0530264', '0841273', '0522769', '0400973', '0960167', '0449278', '0505704', '0455577', '0617115', '0682951', '0317536', '0761049', '0939553', '0458811', '0600339', '0739621', '0797559', '0797919', '0573793', '0695130', '0468649', '0599632', '1061267', '0515003', '0522276', '0551972', '0782070', '0840680', '0463873', '0429573', '0753290', '0841674', '0325193', '0396642', '1063927', '0529427', '0909549', '0411032', '0408327', '0586855', '0447990', '0372802', '0784213', '0444617', '0680918', '1020427', '1069667', '0687467', '0395611', '0619711', '0258576', '0627769', '0463694', '0648964', '0314838', '0397720', '0397143', '0456304', '0785600', '0443902', '0793609', '0606228', '0414242', '0517841', '0351329', '0804183', '0506585', '0558735', '0661995', '0908385', '0915366', '0832377', '0504487', '0405453', '0760277', '0789918', '0600879', '0911576', '0550035', '0379240', '0512177', '0597552', '0482972', '0602737', '0915176', '0756144', '0887271', '0534806', '1002152', '0601602', '0438453', '0451554', '0491901', '0891358', '0648767', '0405140', '0650165', '0781446', '0495604', '0517698', '0454092', '0369771', '0687478', '0911131', '1075523', '1077237', '0947109', '0793634', '1037296', '0783013', '0523427', '0783819', '0875542', '0593741', '0659521', '0555130', '0584472', '0691342', '0409810', '0560757', '0452908', '1059139', '0739951', '0562029', '0419584', '0640765', '0899161', '0617420', '0606081', '0500325', '0788360', '0361248', '0451543', '0591127', '0796444', '0573600', '0599469', '0458862', '0775636', '0671543', '0610880', '0776465', '0854486', '0506608', '0490865', '0508695', '0708791', '0527332', '0491627', '0673392', '0732255', '1005052', '0745968', '0598968', '0814860', '0581949', '0684383', '0723089', '0465377', '0624217', '0471730', '0434186', '0421031', '0494600', '1047648', '0806103', '0897725', '0447884', '0685289', '0578846', '0638924', '0889450', '0550757', '0727259', '0933608', '0887366', '0384856', '0859581', '1001736', '0555001', '1059556', '0771461', '0886038', '0793183', '0740102', '0400045', '0276205', '0917409', '0779285', '0394193', '0569302', '0791839', '0352907', '0255491', '0441821', '0395017', '0473614', '0603910', '0291698', '0492024', '0936834', '0317181', '0692029', '0651126', '0633787', '0794855', '0460241', '0749659', '0524277', '0953879', '0352038', '0593159', '0270655', '0472542', '0553173', '0499999', '0587173', '0553272', '0633904', '0588905', '1054058', '0491566', '0962977', '0819631', '1071072', '1001387', '0586217', '0942311', '1079252', '0876290', '0750647', '0744491', '0387800', '0611372', '0771509', '0464168', '0528931', '0559045', '0495707', '1030240', '0610874', '0964349', '1031074', '0537420', '0801708', '0519697', '0534337', '0492759', '0578506', '0613060', '0352700', '0864017', '0409429', '0689626', '0463753', '0589026', '0629808', '0649941', '0486693', '0459887', '0453532', '0346156', '0739659', '0761442', '0853769', '0562264', '1088167', '0463298', '0895924', '0333025', '0970975', '0438635', '0660518', '0483166', '0500850', '0696453', '0439879', '0714141', '1036329', '0852578', '0634306', '0596965', '0308594', '0922091', '0455056', '1001655', '0519709', '0561675', '0520455', '0706035', '0643496', '0865658', '0951538', '0694216', '0560176', '0741094', '0720000', '0405442', '0912859', '0847576', '0547524', '0371554', '0390667', '0622517', '0823463', '0597436', '0432631', '0599670', '0714947', '0504020', '0457528', '0512828', '0522160', '0513223', '0586708', '0807839', '0362439', '0753188', '0322226', '0845056', '0744520', '0786137', '0645268', '0352107', '0656876', '0967893', '0587987', '0255426', '0564153', '0261263', '1023270', '0303732', '0839865', '0703755', '0505011', '0456391', '0467399', '0427772', '1054570', '0941357', '0433653', '0464033', '0998943', '0992973', '0904146', '0450286', '1084117', '0568347', '0493107', '0741975', '0409596', '0417111', '0933861', '0595325', '0563750', '0577431', '0897517', '0890646', '0474300', '0426570', '0584688', '0641516', '0757808', '0471564', '0694576', '0761570', '0862794', '0441002', '0660066', '0645628', '0345373', '0631935', '0911413', '0259933', '0970716', '0592016', '0460525', '0639653', '0623134', '0856895', '0691505', '0980033', '0996588', '0433364', '0452942', '0441064', '0966170', '0574519', '0379883', '0912683', '0611960', '0500208', '0551130', '0915725', '0427669', '0581947', '0776137', '0713611', '1012352', '0587274', '0414924', '0727576', '0572104', '0482660', '0492065', '0516572', '1001955', '0606698', '0527659', '0550708', '0691982', '0459526', '0975956', '0520027', '0497022', '0875174', '0708737', '0789359', '0927075', '0413649', '0536784', '1086212', '0567477', '0972730', '0529863', '0424226', '0862507', '0440871', '0604299', '0563548', '0425769', '0773663', '0801505', '0775968', '1064030', '0579167', '0574527', '0781868', '0435252', '0781284', '0407258', '0510525', '0412936', '0412006', '0818133', '0644660', '0593870', '1080171', '0703736', '0427832', '0401731', '0417658', '0440434', '0691939', '0628962', '0624137', '0550990', '0421939', '0532698', '0499069', '0419594', '0401926', '0614501', '0444030', '0568197', '0601517', '0494051', '1005725', '0792179', '0738674', '0758211', '0957222', '0499662', '0915902', '0941974', '0596949', '1054604', '0271871', '0544859', '0332534', '0458606', '0457342', '0785065', '0834232', '0561887', '0778391', '0868724', '0894029', '0394738', '0376305', '0625438', '0852393', '0926925', '0768328', '0776643', '1027315', '0882204', '0965542', '0610443', '0781946', '0597117', '0751334', '0745565', '0816679', '0584703', '0947828', '0442814', '0764515', '0359794', '0435628', '0340254', '0575988', '0501550', '0366936', '0521419', '0498818', '0562260', '1001599', '0664428', '0335668', '0317681', '0399297', '1087548', '0548499', '1078068', '1029617', '0985698', '0629282', '0997717', '1072990', '0697109', '0518011', '0888711', '0899494', '0482121', '0459272', '0487427', '0497000', '0647649', '1005680', '0563726', '0987035', '0722923', '0491899', '0774813', '0764404', '0982421', '0419805', '1053839', '0486289', '0381339', '0884827', '0485329', '0563023', '0925751', '0538389', '1031730', '0418595', '0505006', '0723140', '0606213', '1005868', '0617964', '1068214', '0912498', '0502347', '0844597', '0683025', '0596139', '0456348', '0782981', '0471867', '0564510', '0394686', '0944023', '0680874', '0420652', '0687864', '0957174', '1052230', '0444791', '0591496', '0263833', '0985644', '0401429', '0723376'])"
      ]
     },
     "execution_count": 87,
     "metadata": {},
     "output_type": "execute_result"
    }
   ],
   "source": [
    "train_res.keys()"
   ]
  },
  {
   "cell_type": "code",
   "execution_count": 91,
   "metadata": {},
   "outputs": [
    {
     "data": {
      "text/plain": [
       "23.0"
      ]
     },
     "execution_count": 91,
     "metadata": {},
     "output_type": "execute_result"
    }
   ],
   "source": [
    "train_res['0659475']['bbox_pred'].tolist()"
   ]
  },
  {
   "cell_type": "code",
   "execution_count": 22,
   "metadata": {},
   "outputs": [],
   "source": [
    "for name in train_res.keys():\n",
    "    train_res[name]['bbox_pred'] = train_res[name]['bbox_pred'].tolist()\n",
    "    train_res[name]['bbox_gt'] = train_res[name]['bbox_gt'].tolist()"
   ]
  },
  {
   "cell_type": "code",
   "execution_count": 22,
   "metadata": {},
   "outputs": [],
   "source": [
    "with open('train_results1.json', 'w') as f:\n",
    "    json.dump(train_res, f)"
   ]
  },
  {
   "cell_type": "code",
   "execution_count": 9,
   "metadata": {},
   "outputs": [],
   "source": [
    "with open('train_results.json', 'r') as f:\n",
    "    train_res = json.load(f)"
   ]
  },
  {
   "cell_type": "code",
   "execution_count": 164,
   "metadata": {},
   "outputs": [],
   "source": [
    "with open('train_results1.json', 'r') as f:\n",
    "    train_res = json.load(f)"
   ]
  },
  {
   "cell_type": "code",
   "execution_count": 95,
   "metadata": {},
   "outputs": [
    {
     "data": {
      "text/plain": [
       "1275.3"
      ]
     },
     "execution_count": 95,
     "metadata": {},
     "output_type": "execute_result"
    }
   ],
   "source": [
    "np.mean(nums)"
   ]
  },
  {
   "cell_type": "code",
   "execution_count": 30,
   "metadata": {},
   "outputs": [
    {
     "name": "stderr",
     "output_type": "stream",
     "text": [
      "100%|██████████| 20/20 [00:04<00:00,  4.10it/s]\n"
     ]
    }
   ],
   "source": [
    "test_res = {}\n",
    "nums = []\n",
    "for name in tqdm(datagenerator_test.train_list):\n",
    "    bbox = {}\n",
    "    im, cnt_gt, sze_gt = datagenerator_test.get_img_from_name(name)\n",
    "    cnt_pred, sze_pred = model.predict(im)\n",
    "    pos_gt = np.where(sze_gt[:, :, :, :, 0] != 0)\n",
    "    pos_sze = sze_gt[pos_gt]\n",
    "    bboxs_gt = np.array([pos_gt[1][0], pos_gt[2][0], pos_gt[3][0], pos_sze[0, 0], pos_sze[0, 1], pos_sze[0, 2]])\n",
    "    bbox['bbox_gt'] = bboxs_gt.tolist()\n",
    "    peaks = ndimage.maximum_filter(cnt_pred[0], size=(3, 3, 3, 1))\n",
    "    idx = np.where(peaks == cnt_pred)\n",
    "    num = np.sum(cnt_pred[idx] > 0.01)\n",
    "    nums.append(num)\n",
    "    sorted_id = np.argsort(cnt_pred[idx])\n",
    "    max_id = sorted_id[::-1][:num]\n",
    "    pos = (idx[0][max_id], idx[1][max_id], idx[2][max_id], idx[3][max_id])\n",
    "    sze = sze_pred[pos]\n",
    "    score = cnt_pred[pos]\n",
    "    pos = np.array((pos[1], pos[2], pos[3])).T\n",
    "    bboxs_pred = np.hstack((pos, sze)).astype(np.int32)\n",
    "    bbox['bbox_pred'] = bboxs_pred.tolist()\n",
    "    bbox['score'] = np.squeeze(score).tolist()\n",
    "    test_res[name] = bbox"
   ]
  },
  {
   "cell_type": "code",
   "execution_count": 21,
   "metadata": {},
   "outputs": [],
   "source": [
    "with open('test_results1.json', 'w') as f:\n",
    "    json.dump(test_res, f)"
   ]
  },
  {
   "cell_type": "code",
   "execution_count": 10,
   "metadata": {},
   "outputs": [],
   "source": [
    "with open('./results/test_results1.json', 'r') as f:\n",
    "    test_res = json.load(f)"
   ]
  },
  {
   "cell_type": "code",
   "execution_count": 39,
   "metadata": {},
   "outputs": [],
   "source": [
    "def draw_vis(im, pos_gt, size_gt, pos, sze):\n",
    "    for j in range(128):\n",
    "        vis_im = np.zeros((96, 128, 3))\n",
    "        vis_im[...,0] = im[0, j, :, :, 0]\n",
    "        vis_im[...,1] = im[0, j, :, :, 0]\n",
    "        vis_im[...,2] = im[0, j, :, :, 0]\n",
    "        vis_im = np.uint8(255.0 * (vis_im * 0.278 + 0.196))\n",
    "        if pos_gt[0] - size_gt[0] / 2 <= j and pos_gt[0] + size_gt[0] / 2 >= j:\n",
    "            a, b = int(pos_gt[1] - size_gt[1] / 2), int(pos_gt[2] - size_gt[2] / 2)\n",
    "            c, d = int(pos_gt[1] + size_gt[1] / 2), int(pos_gt[2] + size_gt[2] / 2)\n",
    "            cv2.rectangle(vis_im, (b, a), (d, c), (0, 255, 0), 1)\n",
    "        for i in range(40):\n",
    "            a, b = int(pos[i][1] - sze[i][1] / 2), int(pos[i][2] - sze[i][2] / 2)\n",
    "            c, d = int(pos[i][1] + sze[i][1] / 2), int(pos[i][2] + sze[i][2] / 2)\n",
    "            if pos[i][0] - sze[i][0] / 2 <= j and pos[i][0] + sze[i][0] / 2 >= j:\n",
    "                cv2.rectangle(vis_im, (b, a), (d, c), (255, 0, 0), 1)\n",
    "        imageio.imsave('./results/img1/{}.png'.format(j), np.uint8(vis_im))"
   ]
  },
  {
   "cell_type": "code",
   "execution_count": 40,
   "metadata": {},
   "outputs": [
    {
     "name": "stdout",
     "output_type": "stream",
     "text": [
      "(1968, 6) (1968,)\n"
     ]
    }
   ],
   "source": [
    "name = datagenerator_test.train_list[14]\n",
    "im, cnt_gt, sze_gt = datagenerator_test.get_img_from_name(name)\n",
    "bbox_pred = np.array(test_res[name]['bbox_pred'])\n",
    "bbox_gt = np.array(test_res[name]['bbox_gt'])\n",
    "score = np.array(test_res[name]['score'])\n",
    "bbox_pred, score = prop_aug(bbox_pred, score)\n",
    "print(bbox_pred.shape, score.shape)\n",
    "keep = nms_3d(bbox_pred, score)\n",
    "draw_vis(im, bbox_gt[:3], bbox_gt[3:], bbox_pred[keep, :3], bbox_pred[keep, 3:6])"
   ]
  },
  {
   "cell_type": "code",
   "execution_count": 30,
   "metadata": {},
   "outputs": [
    {
     "data": {
      "text/plain": [
       "array([29., 14., 16.])"
      ]
     },
     "execution_count": 30,
     "metadata": {},
     "output_type": "execute_result"
    }
   ],
   "source": [
    "sze_gt[np.where(sze_gt!=0)]"
   ]
  },
  {
   "cell_type": "code",
   "execution_count": 16,
   "metadata": {},
   "outputs": [],
   "source": [
    "def nms_3d(bbox, score=None, threshod=0.3):\n",
    "    if isinstance(bbox, list):\n",
    "        bbox = np.array(bbox)\n",
    "    if isinstance(score, list):\n",
    "        score = np.array(score)\n",
    "    x1 = bbox[:, 0] - bbox[:, 3] / 2\n",
    "    x2 = bbox[:, 0] + bbox[:, 3] / 2\n",
    "    y1 = bbox[:, 1] - bbox[:, 4] / 2\n",
    "    y2 = bbox[:, 1] + bbox[:, 4] / 2\n",
    "    z1 = bbox[:, 2] - bbox[:, 5] / 2\n",
    "    z2 = bbox[:, 2] + bbox[:, 5] / 2\n",
    "    if score is None:\n",
    "        score = bbox[:, 6]\n",
    "    areas = (x2 - x1 + 1) * (y2 - y1 + 1) * (z2 - z1 + 1)  # 面积\n",
    "    ordered_id = np.argsort(score)[::-1]\n",
    "    \n",
    "    keep = []\n",
    "    while(ordered_id.size > 0):\n",
    "        i = ordered_id[0]\n",
    "        keep.append(i)\n",
    "        # 相交区域\n",
    "        xx1 = np.maximum(x1[i], x1[ordered_id[1:]]) \n",
    "        yy1 = np.maximum(y1[i], y1[ordered_id[1:]]) \n",
    "        xx2 = np.minimum(x2[i], x2[ordered_id[1:]]) \n",
    "        yy2 = np.minimum(y2[i], y2[ordered_id[1:]])\n",
    "        zz1 = np.minimum(z1[i], z1[ordered_id[1:]]) \n",
    "        zz2 = np.minimum(z2[i], z2[ordered_id[1:]])\n",
    "        #计算相交的面积,不重叠时面积为0\n",
    "        w = np.maximum(0.0, xx2 - xx1 + 1) \n",
    "        h = np.maximum(0.0, yy2 - yy1 + 1) \n",
    "        d = np.maximum(0.0, zz2 - zz1 + 1)\n",
    "        inter = w * h * d\n",
    "        \n",
    "        iou = inter / (areas[i] + areas[ordered_id[1:]] - inter)\n",
    "        idx = np.where(iou <= threshod)[0]\n",
    "        ordered_id = ordered_id[idx + 1]\n",
    "    return keep"
   ]
  },
  {
   "cell_type": "code",
   "execution_count": 227,
   "metadata": {},
   "outputs": [
    {
     "name": "stderr",
     "output_type": "stream",
     "text": [
      "100%|██████████| 300/300 [00:52<00:00,  5.52it/s]\n"
     ]
    }
   ],
   "source": [
    "filenames = []\n",
    "for i in tqdm(range(300)):\n",
    "    im, cnt_gt, sze_gt, filename = datagenerator.next_batch(1, return_names=True)\n",
    "    pos_gt = np.where(sze_gt[:, :, :, :, 0] != 0)\n",
    "    if np.mean(sze_gt[pos_gt]) > 20:\n",
    "        if filename not in filenames:\n",
    "            filenames.append(filename)"
   ]
  },
  {
   "cell_type": "code",
   "execution_count": 228,
   "metadata": {},
   "outputs": [
    {
     "data": {
      "text/plain": [
       "79"
      ]
     },
     "execution_count": 228,
     "metadata": {},
     "output_type": "execute_result"
    }
   ],
   "source": [
    "len(filenames)"
   ]
  },
  {
   "cell_type": "code",
   "execution_count": 32,
   "metadata": {},
   "outputs": [],
   "source": [
    "im, cnt_gt, sze_gt, filename = datagenerator.next_batch(1, return_names=True)"
   ]
  },
  {
   "cell_type": "code",
   "execution_count": 20,
   "metadata": {},
   "outputs": [],
   "source": [
    "im, cnt_gt, sze_gt, filename = datagenerator_test.next_batch(1, return_names=True)"
   ]
  },
  {
   "cell_type": "code",
   "execution_count": 9,
   "metadata": {},
   "outputs": [],
   "source": [
    "name = datagenerator.train_list[0]\n",
    "im, cnt_gt, sze_gt = datagenerator.get_img_from_name(name)\n",
    "cnt_pred, sze_pred = model.predict(im)"
   ]
  },
  {
   "cell_type": "code",
   "execution_count": 28,
   "metadata": {},
   "outputs": [],
   "source": [
    "im, cnt_gt, sze_gt = datagenerator.next_batch(1)\n"
   ]
  },
  {
   "cell_type": "code",
   "execution_count": 13,
   "metadata": {},
   "outputs": [],
   "source": [
    "name = datagenerator_test.train_list[0]\n",
    "im, cnt_gt, sze_gt = datagenerator_test.get_img_from_name(name)\n",
    "cnt_pred, sze_pred = model.predict(im)"
   ]
  },
  {
   "cell_type": "code",
   "execution_count": 21,
   "metadata": {},
   "outputs": [
    {
     "data": {
      "text/plain": [
       "(array([0, 0]),\n",
       " array([86, 97]),\n",
       " array([28, 32]),\n",
       " array([56, 69]),\n",
       " array([0, 0]))"
      ]
     },
     "execution_count": 21,
     "metadata": {},
     "output_type": "execute_result"
    }
   ],
   "source": [
    "np.where(cnt_gt==1)"
   ]
  },
  {
   "cell_type": "code",
   "execution_count": 22,
   "metadata": {},
   "outputs": [
    {
     "data": {
      "text/plain": [
       "(array([0, 0, 0, 0, 0, 0]),\n",
       " array([86, 86, 86, 97, 97, 97]),\n",
       " array([28, 28, 28, 32, 32, 32]),\n",
       " array([56, 56, 56, 69, 69, 69]),\n",
       " array([0, 1, 2, 0, 1, 2]))"
      ]
     },
     "execution_count": 22,
     "metadata": {},
     "output_type": "execute_result"
    }
   ],
   "source": [
    "np.where(sze_gt!=0)"
   ]
  },
  {
   "cell_type": "code",
   "execution_count": 23,
   "metadata": {},
   "outputs": [
    {
     "data": {
      "text/plain": [
       "array([0.15625 , 0.1875  , 0.140625])"
      ]
     },
     "execution_count": 23,
     "metadata": {},
     "output_type": "execute_result"
    }
   ],
   "source": [
    "sze_gt[0, 86, 28, 56]"
   ]
  },
  {
   "cell_type": "code",
   "execution_count": 29,
   "metadata": {},
   "outputs": [
    {
     "name": "stdout",
     "output_type": "stream",
     "text": [
      "79\n"
     ]
    }
   ],
   "source": [
    "idx = np.where(sze_gt!=0)[1][0]\n",
    "print(idx)"
   ]
  },
  {
   "cell_type": "code",
   "execution_count": 30,
   "metadata": {},
   "outputs": [
    {
     "data": {
      "text/plain": [
       "<matplotlib.image.AxesImage at 0x7f802c332da0>"
      ]
     },
     "execution_count": 30,
     "metadata": {},
     "output_type": "execute_result"
    },
    {
     "data": {
      "image/png": "[encoded data removed]",
      "text/plain": [
       "<Figure size 432x288 with 1 Axes>"
      ]
     },
     "metadata": {
      "needs_background": "light"
     },
     "output_type": "display_data"
    }
   ],
   "source": [
    "plt.imshow(im[0, idx,:, :, 0], 'gray')"
   ]
  },
  {
   "cell_type": "code",
   "execution_count": 31,
   "metadata": {},
   "outputs": [
    {
     "data": {
      "text/plain": [
       "<matplotlib.image.AxesImage at 0x7f802c7da710>"
      ]
     },
     "execution_count": 31,
     "metadata": {},
     "output_type": "execute_result"
    },
    {
     "data": {
      "image/png": "[encoded data removed]",
      "text/plain": [
       "<Figure size 432x288 with 1 Axes>"
      ]
     },
     "metadata": {
      "needs_background": "light"
     },
     "output_type": "display_data"
    }
   ],
   "source": [
    "plt.imshow(cnt_gt[0, idx,:, :, 0], 'gray')"
   ]
  },
  {
   "cell_type": "code",
   "execution_count": 135,
   "metadata": {},
   "outputs": [],
   "source": [
    "peaks = ndimage.maximum_filter(cnt_pred[0], size=(3, 3, 3, 1))"
   ]
  },
  {
   "cell_type": "code",
   "execution_count": 107,
   "metadata": {},
   "outputs": [],
   "source": [
    "idx = np.where(peaks == cnt_pred)"
   ]
  },
  {
   "cell_type": "code",
   "execution_count": 108,
   "metadata": {},
   "outputs": [
    {
     "data": {
      "text/plain": [
       "0.18002456"
      ]
     },
     "execution_count": 108,
     "metadata": {},
     "output_type": "execute_result"
    }
   ],
   "source": [
    "np.max(cnt_pred)"
   ]
  },
  {
   "cell_type": "code",
   "execution_count": 109,
   "metadata": {},
   "outputs": [
    {
     "data": {
      "text/plain": [
       "63"
      ]
     },
     "execution_count": 109,
     "metadata": {},
     "output_type": "execute_result"
    }
   ],
   "source": [
    "np.sum(cnt_pred[idx] > 0.01)"
   ]
  },
  {
   "cell_type": "code",
   "execution_count": 110,
   "metadata": {},
   "outputs": [],
   "source": [
    "sorted_id = np.argsort(cnt_pred[idx])"
   ]
  },
  {
   "cell_type": "code",
   "execution_count": 111,
   "metadata": {},
   "outputs": [],
   "source": [
    "max_id = sorted_id[::-1][:20]"
   ]
  },
  {
   "cell_type": "code",
   "execution_count": 112,
   "metadata": {},
   "outputs": [
    {
     "data": {
      "text/plain": [
       "array([0.18002456, 0.08926609, 0.05593753, 0.04573357, 0.03483868,\n",
       "       0.03128055, 0.02841508, 0.02596813, 0.02436233, 0.02023515,\n",
       "       0.01926458, 0.01893637, 0.0172261 , 0.01692328, 0.01687047,\n",
       "       0.01652539, 0.01628724, 0.0159784 , 0.01581112, 0.01515338],\n",
       "      dtype=float32)"
      ]
     },
     "execution_count": 112,
     "metadata": {},
     "output_type": "execute_result"
    }
   ],
   "source": [
    "cnt_pred[idx[0][max_id], idx[1][max_id], idx[2][max_id], idx[3][max_id], idx[4][max_id]]"
   ]
  },
  {
   "cell_type": "code",
   "execution_count": 113,
   "metadata": {},
   "outputs": [
    {
     "name": "stdout",
     "output_type": "stream",
     "text": [
      "[0 0 0 0 0 0 0 0 0 0 0 0 0 0 0 0 0 0 0 0]\n",
      "[ 88 110  82  80  71  88  84 106  76  73  34 104  46  91  22  63   0  94\n",
      " 105  40]\n",
      "[36 57 47 55 32 29 66 40 49 32 34 44 63 56 32 60 95 47 76 53]\n",
      "[ 76  70  58  79  73  55  85  58  41  81  44  78  52  70  89  70 127  53\n",
      "   5  97]\n"
     ]
    }
   ],
   "source": [
    "pos = (idx[0][max_id], idx[1][max_id], idx[2][max_id], idx[3][max_id])\n",
    "for p in pos:\n",
    "    print(p)"
   ]
  },
  {
   "cell_type": "code",
   "execution_count": 114,
   "metadata": {},
   "outputs": [
    {
     "name": "stdout",
     "output_type": "stream",
     "text": [
      "(array([0]), array([91]), array([36]), array([77]))\n"
     ]
    }
   ],
   "source": [
    "pos_gt = np.where(sze_gt[:, :, :, :, 0] != 0)\n",
    "print(pos_gt)"
   ]
  },
  {
   "cell_type": "code",
   "execution_count": 115,
   "metadata": {},
   "outputs": [],
   "source": [
    "pos_sze = sze_gt[pos_gt]"
   ]
  },
  {
   "cell_type": "code",
   "execution_count": 116,
   "metadata": {},
   "outputs": [
    {
     "data": {
      "text/plain": [
       "array([[0.12163013]], dtype=float32)"
      ]
     },
     "execution_count": 116,
     "metadata": {},
     "output_type": "execute_result"
    }
   ],
   "source": [
    "cnt_pred[pos_gt]"
   ]
  },
  {
   "cell_type": "code",
   "execution_count": 117,
   "metadata": {},
   "outputs": [
    {
     "data": {
      "text/plain": [
       "array([[0.3507223 , 0.38139138, 0.27505693],\n",
       "       [0.08679252, 0.09516402, 0.06513512],\n",
       "       [0.07747411, 0.10915732, 0.08101695],\n",
       "       [0.09462549, 0.05750182, 0.04815964],\n",
       "       [0.44767106, 0.5157632 , 0.35126477],\n",
       "       [0.0971716 , 0.10879879, 0.07128907],\n",
       "       [0.09386361, 0.12431744, 0.08483784],\n",
       "       [0.12142932, 0.11822253, 0.08824967],\n",
       "       [0.06792355, 0.07198824, 0.04552904],\n",
       "       [0.41826692, 0.4515049 , 0.31836334],\n",
       "       [0.40741214, 0.46226248, 0.3075466 ],\n",
       "       [0.09161256, 0.11359355, 0.08382956],\n",
       "       [0.05896638, 0.10240885, 0.07825872],\n",
       "       [0.10421259, 0.11068178, 0.1007591 ],\n",
       "       [0.21908711, 0.2231821 , 0.16566797],\n",
       "       [0.09488071, 0.08878789, 0.0511676 ],\n",
       "       [0.5150342 , 0.2664185 , 0.5642176 ],\n",
       "       [0.07339627, 0.07966014, 0.06334896],\n",
       "       [0.13085552, 0.14644977, 0.11291723],\n",
       "       [0.19634706, 0.20753738, 0.16532466]], dtype=float32)"
      ]
     },
     "execution_count": 117,
     "metadata": {},
     "output_type": "execute_result"
    }
   ],
   "source": [
    "sze_pred[pos]"
   ]
  },
  {
   "cell_type": "code",
   "execution_count": 118,
   "metadata": {},
   "outputs": [],
   "source": [
    "size_gt = sze_gt[pos_gt][0]"
   ]
  },
  {
   "cell_type": "code",
   "execution_count": 119,
   "metadata": {},
   "outputs": [
    {
     "data": {
      "text/plain": [
       "array([39., 40., 54.])"
      ]
     },
     "execution_count": 119,
     "metadata": {},
     "output_type": "execute_result"
    }
   ],
   "source": [
    "size_gt"
   ]
  },
  {
   "cell_type": "code",
   "execution_count": 120,
   "metadata": {},
   "outputs": [],
   "source": [
    "sze = sze_pred[0, pos[1], pos[2], pos[3]]"
   ]
  },
  {
   "cell_type": "code",
   "execution_count": 121,
   "metadata": {},
   "outputs": [],
   "source": [
    "sze[:, 0] = sze[:, 0] * 128\n",
    "sze[:, 1] = sze[:, 1] * 96\n",
    "sze[:, 2] = sze[:, 2] * 128"
   ]
  },
  {
   "cell_type": "code",
   "execution_count": 122,
   "metadata": {},
   "outputs": [],
   "source": [
    "for j in range(128):\n",
    "    vis_im = np.zeros((96, 128, 3))\n",
    "    vis_im[...,0] = im[0, j, :, :, 0]\n",
    "    vis_im[...,1] = im[0, j, :, :, 0]\n",
    "    vis_im[...,2] = im[0, j, :, :, 0]\n",
    "    vis_im = np.uint8(255.0 * (vis_im * 0.278 + 0.196))\n",
    "    if pos_gt[1][0] - size_gt[0] / 2 <= j and pos_gt[1][0] + size_gt[0] / 2 >= j:\n",
    "        a, b = int(pos_gt[2][0] - size_gt[1] / 2), int(pos_gt[3][0] - size_gt[2] / 2)\n",
    "        c, d = int(pos_gt[2][0] + size_gt[1] / 2), int(pos_gt[3][0] + size_gt[2] / 2)\n",
    "        cv2.rectangle(vis_im, (b, a), (d, c), (0, 255, 0), 1)\n",
    "    for i in range(10):\n",
    "        a, b = int(pos[2][i] - sze[i][1] / 2), int(pos[3][i] - sze[i][2] / 2)\n",
    "        c, d = int(pos[2][i] + sze[i][1] / 2), int(pos[3][i] + sze[i][2] / 2)\n",
    "        if pos[1][i] - sze[i][0] / 2 <= j and pos[1][i] + sze[i][0] / 2 >= j:\n",
    "            cv2.rectangle(vis_im, (b, a), (d, c), (255, 0, 0), 1)\n",
    "    imageio.imsave('./results/img/{}.png'.format(j), np.uint8(vis_im))"
   ]
  },
  {
   "cell_type": "code",
   "execution_count": 9,
   "metadata": {},
   "outputs": [],
   "source": [
    "with open(\"results2/fpr_cls_se_format.json\", 'r') as f:\n",
    "    fpr = json.load(f)"
   ]
  },
  {
   "cell_type": "code",
   "execution_count": 12,
   "metadata": {},
   "outputs": [
    {
     "data": {
      "text/plain": [
       "{'bbox_gt': [[0.7961264016309888,\n",
       "   0.404296875,\n",
       "   0.490234375,\n",
       "   0.056012411668704375,\n",
       "   0.04408508875739645,\n",
       "   0.03656901479289941]],\n",
       " 'bbox_pred': [[0.796875,\n",
       "   0.40625,\n",
       "   0.4921875,\n",
       "   0.06417137384414673,\n",
       "   0.05358303710818291,\n",
       "   0.04145628586411476],\n",
       "  [0.484375,\n",
       "   0.4140625,\n",
       "   0.4609375,\n",
       "   0.2456977218389511,\n",
       "   0.18036440014839172,\n",
       "   0.19194439053535461],\n",
       "  [0.3671875,\n",
       "   0.4609375,\n",
       "   0.4375,\n",
       "   0.2879074215888977,\n",
       "   0.1409062296152115,\n",
       "   0.11459021270275116],\n",
       "  [0.234375,\n",
       "   0.5234375,\n",
       "   0.4609375,\n",
       "   0.17071357369422913,\n",
       "   0.11822053790092468,\n",
       "   0.14144060015678406],\n",
       "  [0.53125,\n",
       "   0.40625,\n",
       "   0.4453125,\n",
       "   0.257437139749527,\n",
       "   0.14988018572330475,\n",
       "   0.15721870958805084],\n",
       "  [0.2890625,\n",
       "   0.59375,\n",
       "   0.5703125,\n",
       "   0.16465158760547638,\n",
       "   0.12005163729190826,\n",
       "   0.12137685716152191],\n",
       "  [0.484375,\n",
       "   0.4609375,\n",
       "   0.4453125,\n",
       "   0.1952332705259323,\n",
       "   0.14368396997451782,\n",
       "   0.14149904251098633],\n",
       "  [0.25,\n",
       "   0.5546875,\n",
       "   0.453125,\n",
       "   0.2024170607328415,\n",
       "   0.10222236067056656,\n",
       "   0.0964939147233963],\n",
       "  [0.25,\n",
       "   0.46875,\n",
       "   0.4921875,\n",
       "   0.16634739935398102,\n",
       "   0.14956818521022797,\n",
       "   0.16627705097198486],\n",
       "  [0.6796875,\n",
       "   0.6328125,\n",
       "   0.4453125,\n",
       "   0.14662951231002808,\n",
       "   0.10965107381343842,\n",
       "   0.12128153443336487],\n",
       "  [0.359375,\n",
       "   0.3359375,\n",
       "   0.3671875,\n",
       "   0.08314157277345657,\n",
       "   0.11967091262340546,\n",
       "   0.12447665631771088],\n",
       "  [0.6484375,\n",
       "   0.3125,\n",
       "   0.1875,\n",
       "   0.2741093039512634,\n",
       "   0.2043212652206421,\n",
       "   0.21072465181350708],\n",
       "  [0.4140625,\n",
       "   0.5546875,\n",
       "   0.453125,\n",
       "   0.16850340366363525,\n",
       "   0.10501930117607117,\n",
       "   0.09258060157299042],\n",
       "  [0.3125,\n",
       "   0.5546875,\n",
       "   0.4453125,\n",
       "   0.18725615739822388,\n",
       "   0.11020734161138535,\n",
       "   0.11553101241588593],\n",
       "  [0.359375,\n",
       "   0.5625,\n",
       "   0.453125,\n",
       "   0.1486767828464508,\n",
       "   0.0879875123500824,\n",
       "   0.08223437517881393],\n",
       "  [0.3515625,\n",
       "   0.3046875,\n",
       "   0.40625,\n",
       "   0.10370253026485443,\n",
       "   0.12820322811603546,\n",
       "   0.13092507421970367],\n",
       "  [0.3828125,\n",
       "   0.3828125,\n",
       "   0.3984375,\n",
       "   0.18777981400489807,\n",
       "   0.1550835371017456,\n",
       "   0.15576347708702087],\n",
       "  [0.3046875,\n",
       "   0.46875,\n",
       "   0.578125,\n",
       "   0.041130900382995605,\n",
       "   0.09249455481767654,\n",
       "   0.10464034974575043],\n",
       "  [0.6015625,\n",
       "   0.640625,\n",
       "   0.4453125,\n",
       "   0.12092189490795135,\n",
       "   0.08366687595844269,\n",
       "   0.0910542756319046]],\n",
       " 'score': [0.17012718319892883,\n",
       "  0.022884925827383995,\n",
       "  0.019915791228413582,\n",
       "  0.018658511340618134,\n",
       "  0.017926787957549095,\n",
       "  0.014532219618558884,\n",
       "  0.014334933832287788,\n",
       "  0.014222070574760437,\n",
       "  0.012347999028861523,\n",
       "  0.011850993148982525,\n",
       "  0.01169959083199501,\n",
       "  0.011540028266608715,\n",
       "  0.01149225514382124,\n",
       "  0.011372646316885948,\n",
       "  0.011015841737389565,\n",
       "  0.010790144093334675,\n",
       "  0.010552211664617062,\n",
       "  0.010547677055001259,\n",
       "  0.01041241642087698],\n",
       " 'cls_pred': [[0.9046090245246887, 0.09539097547531128],\n",
       "  [0.9605151414871216, 0.0394849069416523],\n",
       "  [0.924299955368042, 0.0757000520825386],\n",
       "  [0.8169692158699036, 0.18303081393241882],\n",
       "  [0.943337619304657, 0.056662414222955704],\n",
       "  [0.7869877815246582, 0.213012233376503],\n",
       "  [0.9316951036453247, 0.0683048665523529],\n",
       "  [0.8787306547164917, 0.1212693303823471],\n",
       "  [0.7832326292991638, 0.2167673110961914],\n",
       "  [0.7781951427459717, 0.22180487215518951],\n",
       "  [0.933667778968811, 0.06633219867944717],\n",
       "  [0.6899294853210449, 0.3100705146789551],\n",
       "  [0.7182943820953369, 0.2817055881023407],\n",
       "  [0.9036684632301331, 0.09633155912160873],\n",
       "  [0.535134494304657, 0.4648655354976654],\n",
       "  [0.9079945087432861, 0.09200552850961685],\n",
       "  [0.9137077331542969, 0.08629224449396133],\n",
       "  [0.6627728939056396, 0.33722710609436035],\n",
       "  [0.7218583822250366, 0.27814164757728577]],\n",
       " 'cls_true': [2, 0, 0, 0, 0, 0, 0, 0, 0, 0, 0, 0, 0, 0, 0, 0, 0, 0, 0],\n",
       " 'score2': [[0.052303608506917953, 0.9476964473724365],\n",
       "  [0.4845694601535797, 0.5154305696487427],\n",
       "  [0.05240416154265404, 0.9475958347320557],\n",
       "  [0.5097082853317261, 0.49029168486595154],\n",
       "  [0.0772305577993393, 0.9227694272994995],\n",
       "  [0.6758302450180054, 0.32416972517967224],\n",
       "  [0.2707533836364746, 0.7292465567588806],\n",
       "  [0.015054249204695225, 0.9849457740783691],\n",
       "  [0.6287655830383301, 0.37123438715934753],\n",
       "  [0.6558600664138794, 0.3441399037837982],\n",
       "  [0.41327983140945435, 0.5867201685905457],\n",
       "  [0.3607753813266754, 0.639224648475647],\n",
       "  [0.35995247960090637, 0.6400474905967712],\n",
       "  [0.029879270121455193, 0.9701207876205444],\n",
       "  [0.22865328192710876, 0.7713467478752136],\n",
       "  [0.6151711344718933, 0.3848288357257843],\n",
       "  [0.31783410906791687, 0.6821658611297607],\n",
       "  [0.13212579488754272, 0.8678742051124573],\n",
       "  [0.5769904255867004, 0.4230095148086548]]}"
      ]
     },
     "execution_count": 12,
     "metadata": {},
     "output_type": "execute_result"
    }
   ],
   "source": [
    "fpr['0658824']"
   ]
  },
  {
   "cell_type": "code",
   "execution_count": null,
   "metadata": {},
   "outputs": [],
   "source": []
  }
 ],
 "metadata": {
  "kernelspec": {
   "display_name": "tf2.0",
   "language": "python",
   "name": "tf2.0"
  },
  "language_info": {
   "codemirror_mode": {
    "name": "ipython",
    "version": 3
   },
   "file_extension": ".py",
   "mimetype": "text/x-python",
   "name": "python",
   "nbconvert_exporter": "python",
   "pygments_lexer": "ipython3",
   "version": "3.7.3"
  }
 },
 "nbformat": 4,
 "nbformat_minor": 2
}
